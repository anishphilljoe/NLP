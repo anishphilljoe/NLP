{
 "cells": [
  {
   "cell_type": "code",
   "execution_count": 50,
   "metadata": {},
   "outputs": [],
   "source": [
    "import pandas as pd\n",
    "import numpy as np\n",
    "from pandas import ExcelWriter\n",
    "from pandas import ExcelFile\n",
    "import matplotlib.pyplot as plt\n",
    "import nltk\n",
    "from nltk.tokenize.treebank import TreebankWordTokenizer\n",
    "from nltk.tokenize import TweetTokenizer\n",
    "from nltk.tokenize import word_tokenize\n",
    "from nltk.probability import FreqDist\n",
    "from nltk.corpus import stopwords\n",
    "from nltk.stem.wordnet import WordNetLemmatizer\n",
    "from string import punctuation\n",
    "import gensim\n",
    "from gensim.models import Word2Vec, KeyedVectors\n",
    "import re\n",
    "from nltk import re\n",
    "from helpers import regex, utils\n",
    "from keras.datasets import imdb\n",
    "import keras\n",
    "from keras.preprocessing.sequence import pad_sequences\n",
    "from keras.layers import Dense, Input, LSTM, Embedding, Dropout, Activation, TimeDistributed\n",
    "from keras.layers import Bidirectional, GlobalMaxPool1D,Bidirectional, Conv1D, MaxPooling1D, Flatten\n",
    "from keras.models import Model"
   ]
  },
  {
   "cell_type": "markdown",
   "metadata": {},
   "source": [
    "# 1. Load and Explore the Training and Test data"
   ]
  },
  {
   "cell_type": "code",
   "execution_count": 3,
   "metadata": {},
   "outputs": [
    {
     "data": {
      "text/html": [
       "<div>\n",
       "<style scoped>\n",
       "    .dataframe tbody tr th:only-of-type {\n",
       "        vertical-align: middle;\n",
       "    }\n",
       "\n",
       "    .dataframe tbody tr th {\n",
       "        vertical-align: top;\n",
       "    }\n",
       "\n",
       "    .dataframe thead th {\n",
       "        text-align: right;\n",
       "    }\n",
       "</style>\n",
       "<table border=\"1\" class=\"dataframe\">\n",
       "  <thead>\n",
       "    <tr style=\"text-align: right;\">\n",
       "      <th></th>\n",
       "      <th>id</th>\n",
       "      <th>comment_text</th>\n",
       "      <th>toxic</th>\n",
       "      <th>severe_toxic</th>\n",
       "      <th>obscene</th>\n",
       "      <th>threat</th>\n",
       "      <th>insult</th>\n",
       "      <th>identity_hate</th>\n",
       "    </tr>\n",
       "  </thead>\n",
       "  <tbody>\n",
       "    <tr>\n",
       "      <th>79</th>\n",
       "      <td>003217c3eb469ba9</td>\n",
       "      <td>Hi! I am back again!\\nLast warning!\\nStop undo...</td>\n",
       "      <td>1</td>\n",
       "      <td>0</td>\n",
       "      <td>0</td>\n",
       "      <td>1</td>\n",
       "      <td>0</td>\n",
       "      <td>0</td>\n",
       "    </tr>\n",
       "    <tr>\n",
       "      <th>176</th>\n",
       "      <td>006b94add72ed61c</td>\n",
       "      <td>I think that your a Fagget get a oife and burn...</td>\n",
       "      <td>1</td>\n",
       "      <td>0</td>\n",
       "      <td>1</td>\n",
       "      <td>1</td>\n",
       "      <td>1</td>\n",
       "      <td>1</td>\n",
       "    </tr>\n",
       "    <tr>\n",
       "      <th>600</th>\n",
       "      <td>0199d6af27b715f3</td>\n",
       "      <td>I'm also a sock puppet of this account...SUPRI...</td>\n",
       "      <td>1</td>\n",
       "      <td>0</td>\n",
       "      <td>0</td>\n",
       "      <td>1</td>\n",
       "      <td>0</td>\n",
       "      <td>0</td>\n",
       "    </tr>\n",
       "    <tr>\n",
       "      <th>802</th>\n",
       "      <td>02230885017a50c5</td>\n",
       "      <td>Fuck you, Smith. Please have me notified when ...</td>\n",
       "      <td>1</td>\n",
       "      <td>0</td>\n",
       "      <td>1</td>\n",
       "      <td>1</td>\n",
       "      <td>1</td>\n",
       "      <td>0</td>\n",
       "    </tr>\n",
       "    <tr>\n",
       "      <th>1017</th>\n",
       "      <td>02c6e41e4b317ac3</td>\n",
       "      <td>WOULDN'T BE THE FIRST TIME BITCH. FUCK YOU I'L...</td>\n",
       "      <td>1</td>\n",
       "      <td>1</td>\n",
       "      <td>1</td>\n",
       "      <td>1</td>\n",
       "      <td>1</td>\n",
       "      <td>1</td>\n",
       "    </tr>\n",
       "  </tbody>\n",
       "</table>\n",
       "</div>"
      ],
      "text/plain": [
       "                    id                                       comment_text  \\\n",
       "79    003217c3eb469ba9  Hi! I am back again!\\nLast warning!\\nStop undo...   \n",
       "176   006b94add72ed61c  I think that your a Fagget get a oife and burn...   \n",
       "600   0199d6af27b715f3  I'm also a sock puppet of this account...SUPRI...   \n",
       "802   02230885017a50c5  Fuck you, Smith. Please have me notified when ...   \n",
       "1017  02c6e41e4b317ac3  WOULDN'T BE THE FIRST TIME BITCH. FUCK YOU I'L...   \n",
       "\n",
       "      toxic  severe_toxic  obscene  threat  insult  identity_hate  \n",
       "79        1             0        0       1       0              0  \n",
       "176       1             0        1       1       1              1  \n",
       "600       1             0        0       1       0              0  \n",
       "802       1             0        1       1       1              0  \n",
       "1017      1             1        1       1       1              1  "
      ]
     },
     "execution_count": 3,
     "metadata": {},
     "output_type": "execute_result"
    }
   ],
   "source": [
    "train_df = pd.read_csv('train.csv')\n",
    "train_df[train_df['threat']==1].head()"
   ]
  },
  {
   "cell_type": "code",
   "execution_count": 4,
   "metadata": {},
   "outputs": [
    {
     "data": {
      "image/png": "[encoded data removed]",
      "text/plain": [
       "<Figure size 576x216 with 1 Axes>"
      ]
     },
     "metadata": {},
     "output_type": "display_data"
    }
   ],
   "source": [
    "train_df['all comments']=1\n",
    "plt.figure(figsize=(8,3))\n",
    "train_df[['all comments','toxic','severe_toxic','obscene','threat','insult','identity_hate']].sum().plot.bar()\n",
    "plt.show()"
   ]
  },
  {
   "cell_type": "markdown",
   "metadata": {},
   "source": [
    "Looks like only 10% or less of the overall samples are negative which seems reflective of the true incident rate of such comments on online discussion forums"
   ]
  },
  {
   "cell_type": "code",
   "execution_count": 5,
   "metadata": {},
   "outputs": [
    {
     "data": {
      "image/png": "[encoded data removed]",
      "text/plain": [
       "<Figure size 432x288 with 1 Axes>"
      ]
     },
     "metadata": {},
     "output_type": "display_data"
    }
   ],
   "source": [
    "plt.subplots()\n",
    "plt.boxplot([train_df[train_df['toxic']==1]['comment_text'].apply(len),\n",
    "             train_df[train_df['severe_toxic']==1]['comment_text'].apply(len),\n",
    "            train_df[train_df['obscene']==1]['comment_text'].apply(len),\n",
    "            train_df[train_df['threat']==1]['comment_text'].apply(len),\n",
    "            train_df[train_df['insult']==1]['comment_text'].apply(len),\n",
    "            train_df[train_df['identity_hate']==1]['comment_text'].apply(len)])\n",
    "plt.show()"
   ]
  },
  {
   "cell_type": "code",
   "execution_count": 6,
   "metadata": {},
   "outputs": [
    {
     "name": "stdout",
     "output_type": "stream",
     "text": [
      "90th percentile length of comments within each category of toxicity\n"
     ]
    },
    {
     "data": {
      "image/png": "[encoded data removed]",
      "text/plain": [
       "<Figure size 576x216 with 1 Axes>"
      ]
     },
     "metadata": {},
     "output_type": "display_data"
    }
   ],
   "source": [
    "print('90th percentile length of comments within each category of toxicity')\n",
    "plt.figure(figsize=(8,3))\n",
    "plt.bar(x=['All Comments','toxic','severe_toxic','obscene','threat','insult','identity_hate'],height=[\n",
    "    np.percentile(train_df['comment_text'].apply(len),90),\n",
    "    np.percentile(train_df[train_df['toxic']==1]['comment_text'].apply(len),90),\n",
    "             np.percentile(train_df[train_df['severe_toxic']==1]['comment_text'].apply(len),90),\n",
    "            np.percentile(train_df[train_df['obscene']==1]['comment_text'].apply(len),90),\n",
    "            np.percentile(train_df[train_df['threat']==1]['comment_text'].apply(len),90),\n",
    "            np.percentile(train_df[train_df['insult']==1]['comment_text'].apply(len),90),\n",
    "            np.percentile(train_df[train_df['identity_hate']==1]['comment_text'].apply(len),90)\n",
    "])\n",
    "plt.show()"
   ]
  },
  {
   "cell_type": "code",
   "execution_count": 7,
   "metadata": {},
   "outputs": [
    {
     "data": {
      "image/png": "[encoded data removed]",
      "text/plain": [
       "<Figure size 432x288 with 1 Axes>"
      ]
     },
     "metadata": {},
     "output_type": "display_data"
    }
   ],
   "source": [
    "plt.subplots()\n",
    "plt.hist(train_df['comment_text'].apply(len), bins=100)\n",
    "plt.show()"
   ]
  },
  {
   "cell_type": "markdown",
   "metadata": {},
   "source": [
    "Longest comment is 5000 words long while the shortest is 6 words, with and average length of 394 words. 90th percentile length of comments in each category is less than 900 words. With severly toxic comments being the longest."
   ]
  },
  {
   "cell_type": "code",
   "execution_count": 8,
   "metadata": {},
   "outputs": [
    {
     "data": {
      "text/html": [
       "<div>\n",
       "<style scoped>\n",
       "    .dataframe tbody tr th:only-of-type {\n",
       "        vertical-align: middle;\n",
       "    }\n",
       "\n",
       "    .dataframe tbody tr th {\n",
       "        vertical-align: top;\n",
       "    }\n",
       "\n",
       "    .dataframe thead th {\n",
       "        text-align: right;\n",
       "    }\n",
       "</style>\n",
       "<table border=\"1\" class=\"dataframe\">\n",
       "  <thead>\n",
       "    <tr style=\"text-align: right;\">\n",
       "      <th></th>\n",
       "      <th>id</th>\n",
       "      <th>comment_text</th>\n",
       "    </tr>\n",
       "  </thead>\n",
       "  <tbody>\n",
       "    <tr>\n",
       "      <th>0</th>\n",
       "      <td>00001cee341fdb12</td>\n",
       "      <td>Yo bitch Ja Rule is more succesful then you'll...</td>\n",
       "    </tr>\n",
       "    <tr>\n",
       "      <th>1</th>\n",
       "      <td>0000247867823ef7</td>\n",
       "      <td>== From RfC == \\n\\n The title is fine as it is...</td>\n",
       "    </tr>\n",
       "    <tr>\n",
       "      <th>2</th>\n",
       "      <td>00013b17ad220c46</td>\n",
       "      <td>\" \\n\\n == Sources == \\n\\n * Zawe Ashton on Lap...</td>\n",
       "    </tr>\n",
       "    <tr>\n",
       "      <th>3</th>\n",
       "      <td>00017563c3f7919a</td>\n",
       "      <td>:If you have a look back at the source, the in...</td>\n",
       "    </tr>\n",
       "    <tr>\n",
       "      <th>4</th>\n",
       "      <td>00017695ad8997eb</td>\n",
       "      <td>I don't anonymously edit articles at all.</td>\n",
       "    </tr>\n",
       "  </tbody>\n",
       "</table>\n",
       "</div>"
      ],
      "text/plain": [
       "                 id                                       comment_text\n",
       "0  00001cee341fdb12  Yo bitch Ja Rule is more succesful then you'll...\n",
       "1  0000247867823ef7  == From RfC == \\n\\n The title is fine as it is...\n",
       "2  00013b17ad220c46  \" \\n\\n == Sources == \\n\\n * Zawe Ashton on Lap...\n",
       "3  00017563c3f7919a  :If you have a look back at the source, the in...\n",
       "4  00017695ad8997eb          I don't anonymously edit articles at all."
      ]
     },
     "execution_count": 8,
     "metadata": {},
     "output_type": "execute_result"
    }
   ],
   "source": [
    "test_df = pd.read_csv('test.csv')\n",
    "test_df.head()"
   ]
  },
  {
   "cell_type": "code",
   "execution_count": 9,
   "metadata": {},
   "outputs": [
    {
     "name": "stdout",
     "output_type": "stream",
     "text": [
      "90th percentile length of the test comments: 804.0\n"
     ]
    }
   ],
   "source": [
    "print('90th percentile length of the test comments: '+str(np.percentile(test_df['comment_text'].apply(len),90)))"
   ]
  },
  {
   "cell_type": "code",
   "execution_count": 10,
   "metadata": {},
   "outputs": [
    {
     "data": {
      "text/html": [
       "<div>\n",
       "<style scoped>\n",
       "    .dataframe tbody tr th:only-of-type {\n",
       "        vertical-align: middle;\n",
       "    }\n",
       "\n",
       "    .dataframe tbody tr th {\n",
       "        vertical-align: top;\n",
       "    }\n",
       "\n",
       "    .dataframe thead th {\n",
       "        text-align: right;\n",
       "    }\n",
       "</style>\n",
       "<table border=\"1\" class=\"dataframe\">\n",
       "  <thead>\n",
       "    <tr style=\"text-align: right;\">\n",
       "      <th></th>\n",
       "      <th>Unnamed: 0</th>\n",
       "      <th>id</th>\n",
       "      <th>tweet</th>\n",
       "      <th>is_retweet</th>\n",
       "      <th>len</th>\n",
       "      <th>date</th>\n",
       "      <th>source</th>\n",
       "      <th>likes</th>\n",
       "      <th>retweets</th>\n",
       "      <th>screenname</th>\n",
       "      <th>followers</th>\n",
       "      <th>sentiment</th>\n",
       "      <th>comment_text</th>\n",
       "    </tr>\n",
       "  </thead>\n",
       "  <tbody>\n",
       "    <tr>\n",
       "      <th>0</th>\n",
       "      <td>0</td>\n",
       "      <td>8.736000e+17</td>\n",
       "      <td>@ekelly_28 😂😂😂😂😂😂</td>\n",
       "      <td>False</td>\n",
       "      <td>17</td>\n",
       "      <td>2017-06-10 17:57:10</td>\n",
       "      <td>Echofon</td>\n",
       "      <td>1</td>\n",
       "      <td>0</td>\n",
       "      <td>hairston_pj</td>\n",
       "      <td>3149</td>\n",
       "      <td>0</td>\n",
       "      <td>@ekelly_28 😂😂😂😂😂😂</td>\n",
       "    </tr>\n",
       "    <tr>\n",
       "      <th>1</th>\n",
       "      <td>1</td>\n",
       "      <td>8.496350e+17</td>\n",
       "      <td>@CountryAssDot 😂😂😂😂😂</td>\n",
       "      <td>False</td>\n",
       "      <td>20</td>\n",
       "      <td>2017-04-05 14:49:22</td>\n",
       "      <td>Echofon</td>\n",
       "      <td>0</td>\n",
       "      <td>1</td>\n",
       "      <td>hairston_pj</td>\n",
       "      <td>3149</td>\n",
       "      <td>0</td>\n",
       "      <td>@CountryAssDot 😂😂😂😂😂</td>\n",
       "    </tr>\n",
       "    <tr>\n",
       "      <th>2</th>\n",
       "      <td>2</td>\n",
       "      <td>8.496330e+17</td>\n",
       "      <td>@CountryAssDot lol nah it ain't that serious. ...</td>\n",
       "      <td>False</td>\n",
       "      <td>128</td>\n",
       "      <td>2017-04-05 14:40:52</td>\n",
       "      <td>Echofon</td>\n",
       "      <td>1</td>\n",
       "      <td>1</td>\n",
       "      <td>hairston_pj</td>\n",
       "      <td>3149</td>\n",
       "      <td>1</td>\n",
       "      <td>@CountryAssDot lol nah it ain't that serious. ...</td>\n",
       "    </tr>\n",
       "    <tr>\n",
       "      <th>3</th>\n",
       "      <td>3</td>\n",
       "      <td>8.496320e+17</td>\n",
       "      <td>@CountryAssDot just another bitter Duke fan wa...</td>\n",
       "      <td>False</td>\n",
       "      <td>89</td>\n",
       "      <td>2017-04-05 14:39:06</td>\n",
       "      <td>Echofon</td>\n",
       "      <td>4</td>\n",
       "      <td>1</td>\n",
       "      <td>hairston_pj</td>\n",
       "      <td>3149</td>\n",
       "      <td>1</td>\n",
       "      <td>@CountryAssDot just another bitter Duke fan wa...</td>\n",
       "    </tr>\n",
       "    <tr>\n",
       "      <th>4</th>\n",
       "      <td>4</td>\n",
       "      <td>8.496320e+17</td>\n",
       "      <td>@CountryAssDot actually, no. Someone told me I...</td>\n",
       "      <td>False</td>\n",
       "      <td>107</td>\n",
       "      <td>2017-04-05 14:38:30</td>\n",
       "      <td>Echofon</td>\n",
       "      <td>1</td>\n",
       "      <td>1</td>\n",
       "      <td>hairston_pj</td>\n",
       "      <td>3149</td>\n",
       "      <td>0</td>\n",
       "      <td>@CountryAssDot actually, no. Someone told me I...</td>\n",
       "    </tr>\n",
       "  </tbody>\n",
       "</table>\n",
       "</div>"
      ],
      "text/plain": [
       "   Unnamed: 0            id  \\\n",
       "0           0  8.736000e+17   \n",
       "1           1  8.496350e+17   \n",
       "2           2  8.496330e+17   \n",
       "3           3  8.496320e+17   \n",
       "4           4  8.496320e+17   \n",
       "\n",
       "                                               tweet  is_retweet  len  \\\n",
       "0                                  @ekelly_28 😂😂😂😂😂😂       False   17   \n",
       "1                               @CountryAssDot 😂😂😂😂😂       False   20   \n",
       "2  @CountryAssDot lol nah it ain't that serious. ...       False  128   \n",
       "3  @CountryAssDot just another bitter Duke fan wa...       False   89   \n",
       "4  @CountryAssDot actually, no. Someone told me I...       False  107   \n",
       "\n",
       "                  date   source  likes  retweets   screenname  followers  \\\n",
       "0  2017-06-10 17:57:10  Echofon      1         0  hairston_pj       3149   \n",
       "1  2017-04-05 14:49:22  Echofon      0         1  hairston_pj       3149   \n",
       "2  2017-04-05 14:40:52  Echofon      1         1  hairston_pj       3149   \n",
       "3  2017-04-05 14:39:06  Echofon      4         1  hairston_pj       3149   \n",
       "4  2017-04-05 14:38:30  Echofon      1         1  hairston_pj       3149   \n",
       "\n",
       "   sentiment                                       comment_text  \n",
       "0          0                                  @ekelly_28 😂😂😂😂😂😂  \n",
       "1          0                               @CountryAssDot 😂😂😂😂😂  \n",
       "2          1  @CountryAssDot lol nah it ain't that serious. ...  \n",
       "3          1  @CountryAssDot just another bitter Duke fan wa...  \n",
       "4          0  @CountryAssDot actually, no. Someone told me I...  "
      ]
     },
     "execution_count": 10,
     "metadata": {},
     "output_type": "execute_result"
    }
   ],
   "source": [
    "tweet_df = pd.read_csv('player_tweets.csv')\n",
    "tweet_df = tweet_df[tweet_df['tweet'].notna()]\n",
    "tweet_df['comment_text'] = tweet_df['tweet']\n",
    "tweet_df.head()"
   ]
  },
  {
   "cell_type": "markdown",
   "metadata": {},
   "source": [
    "# 2. Normalize and tokenize test and training comments"
   ]
  },
  {
   "cell_type": "markdown",
   "metadata": {},
   "source": [
    "##### Regular Pre-processing"
   ]
  },
  {
   "cell_type": "code",
   "execution_count": 11,
   "metadata": {},
   "outputs": [],
   "source": [
    "#EMOTICONS\n",
    "emoji_pattern = re.compile(\"[\"\n",
    "         u\"\\U0001F600-\\U0001F64F\"  # emoticons\n",
    "         u\"\\U0001F300-\\U0001F5FF\"  # symbols & pictographs\n",
    "         u\"\\U0001F680-\\U0001F6FF\"  # transport & map symbols\n",
    "         u\"\\U0001F1E0-\\U0001F1FF\"  # flags (iOS)\n",
    "         u\"\\U00002702-\\U000027B0\"\n",
    "         u\"\\U000024C2-\\U0001F251\"\n",
    "         \"]+\", flags=re.UNICODE)"
   ]
  },
  {
   "cell_type": "code",
   "execution_count": 12,
   "metadata": {},
   "outputs": [],
   "source": [
    "def Preprocessor(data_df):\n",
    "    text_LIST = []\n",
    "    for i in range(0,len(data_df)):\n",
    "        text = data_df['comment_text'].iloc[i]\n",
    "\n",
    "        #Remove urls\n",
    "        text = re.sub(pattern=regex.get_url_patern(), repl='', string=text)\n",
    "\n",
    "        #Remove punctuations\n",
    "        text = re.sub(pattern=regex.get_mentions_pattern(), repl='', string=text)\n",
    "\n",
    "        #remove_twitter_reserved_words\n",
    "        #text = re.sub(pattern=regex.get_twitter_reserved_words_pattern(), repl='', string=text)\n",
    "\n",
    "        #remove_single_letter_words\n",
    "        text = re.sub(pattern=regex.get_single_letter_words_pattern(), repl='', string=text)\n",
    "\n",
    "        #remove_blank_spaces\n",
    "        text = re.sub(pattern=regex.get_blank_spaces_pattern(), repl=' ', string=text)\n",
    "\n",
    "        #emoji patter\n",
    "        text = emoji_pattern.sub(r'', text)\n",
    "        \n",
    "        text_LIST.append(text)\n",
    "    data_df['comment_text'] = text_LIST\n",
    "    \n",
    "    return data_df"
   ]
  },
  {
   "cell_type": "code",
   "execution_count": 13,
   "metadata": {},
   "outputs": [],
   "source": [
    "train_df = Preprocessor(train_df)\n",
    "tweet_df = Preprocessor(tweet_df)\n",
    "test_df = Preprocessor(test_df)"
   ]
  },
  {
   "cell_type": "markdown",
   "metadata": {},
   "source": [
    "Looking at the Penn Treebank tokenizer and Tweet Tokenizer to identify the best option for this exersise"
   ]
  },
  {
   "cell_type": "code",
   "execution_count": 14,
   "metadata": {},
   "outputs": [],
   "source": [
    "lem = WordNetLemmatizer()\n",
    "numbers = '1234567890'\n",
    "exclusion = punctuation+numbers\n",
    "exclusion = str.replace(exclusion,\"'\",\"\")\n",
    "stop_words=set(stopwords.words(\"english\"))\n",
    "stop_words.add(\"'\")\n",
    "stop_words.add(\"I\")\n",
    "stop_words.add(\"i\")\n",
    "stop_words.add(\"RT\")\n",
    "stop_words.add(\"rt\")\n",
    "stop_words.add(\"…\")\n",
    "stop_words.add(\"’\")\n",
    "stop_words.add(\"“\")\n",
    "stop_words.add(\"”\")\n",
    "stop_words.add(\"br\")"
   ]
  },
  {
   "cell_type": "code",
   "execution_count": 15,
   "metadata": {},
   "outputs": [],
   "source": [
    "def myTokenizer(data_df, type_of_tok):\n",
    "    tokenizer = TweetTokenizer()\n",
    "    data_tokens = []\n",
    "    for i in range(0,len(data_df)):\n",
    "        if type_of_tok == \"TweetTokenizer\":\n",
    "            #print(data_df['comment_text'].iloc[i])\n",
    "            tok = tokenizer.tokenize(data_df['comment_text'].iloc[i].translate ({ord(c): \" \" for c in exclusion}))\n",
    "        elif type_of_tok == \"WordTokenizer\":\n",
    "            tok = nltk.tokenize.word_tokenize(data_df['comment_text'].iloc[i].translate ({ord(c): \" \" for c in exclusion}))\n",
    "        tok = [lem.lemmatize(tok_ITEM).lower() for tok_ITEM in tok if tok_ITEM not in stop_words]\n",
    "        \n",
    "        data_tokens.append(tok)\n",
    "    len_tokens = []\n",
    "    for i in range(0,len(data_tokens)):\n",
    "        len_tokens.append([len(data_tokens[i]),data_tokens[i]])\n",
    "    len_data_tokens_df = pd.DataFrame(len_tokens,columns=['length','tokens'])\n",
    "    return pd.concat([data_df, len_data_tokens_df], axis=1, sort=False)"
   ]
  },
  {
   "cell_type": "markdown",
   "metadata": {},
   "source": [
    "##### Tokenizing Training Data"
   ]
  },
  {
   "cell_type": "code",
   "execution_count": 17,
   "metadata": {},
   "outputs": [
    {
     "data": {
      "text/plain": [
       "count    159532.000000\n",
       "mean         36.871969\n",
       "std          57.864888\n",
       "min           1.000000\n",
       "25%           9.000000\n",
       "50%          19.000000\n",
       "75%          40.000000\n",
       "max        1353.000000\n",
       "Name: length, dtype: float64"
      ]
     },
     "execution_count": 17,
     "metadata": {},
     "output_type": "execute_result"
    }
   ],
   "source": [
    "train_df_tt = myTokenizer(train_df, \"TweetTokenizer\")\n",
    "train_df_tt = train_df_tt[train_df_tt['length']!=0]\n",
    "train_df_tt['length'].describe()"
   ]
  },
  {
   "cell_type": "code",
   "execution_count": 18,
   "metadata": {},
   "outputs": [
    {
     "data": {
      "text/plain": [
       "count    159532.000000\n",
       "mean         37.031555\n",
       "std          57.973653\n",
       "min           1.000000\n",
       "25%           9.000000\n",
       "50%          19.000000\n",
       "75%          40.000000\n",
       "max        1353.000000\n",
       "Name: length, dtype: float64"
      ]
     },
     "execution_count": 18,
     "metadata": {},
     "output_type": "execute_result"
    }
   ],
   "source": [
    "train_df_wt = myTokenizer(train_df, \"WordTokenizer\")\n",
    "train_df_wt = train_df_wt[train_df_wt['length']!=0]\n",
    "train_df_wt['length'].describe()"
   ]
  },
  {
   "cell_type": "markdown",
   "metadata": {},
   "source": [
    "It looks like Twitter tokenizer results in a slightly lower # of avg of elements per commemt. Also, it seems to be doing a better job with some really long comments with lot of repeating charaters/ words/ punctuations.\n",
    "Let's look at the most common 60 elements from each tokenizer"
   ]
  },
  {
   "cell_type": "code",
   "execution_count": 19,
   "metadata": {},
   "outputs": [
    {
     "name": "stdout",
     "output_type": "stream",
     "text": [
      "Original comment sample prior to pre-processing\n",
      "\n",
      "Explanation\n",
      "Why the edits made under my username Hardcore Metallica Fan were reverted? They weren' vandalisms, just closure on some GAs after voted at New York Dolls FAC. And please don' remove the template from the talk page since ' retired now.89.205.38.27\n",
      "\n",
      "\n",
      "Pre-processed comment tokens\n",
      "\n",
      "['explanation', 'why', 'edits', 'made', 'username', 'hardcore', 'metallica', 'fan', 'reverted', 'they', 'vandalism', 'closure', 'gas', 'voted', 'new', 'york', 'dolls', 'fac', 'and', 'please', 'remove', 'template', 'talk', 'page', 'since', 'retired']\n"
     ]
    }
   ],
   "source": [
    "print(\"Original comment sample prior to pre-processing\\n\")\n",
    "print(train_df_tt['comment_text'].iloc[0])\n",
    "print(\"\\n\\nPre-processed comment tokens\\n\")\n",
    "print(train_df_tt['tokens'].iloc[0])"
   ]
  },
  {
   "cell_type": "markdown",
   "metadata": {},
   "source": [
    "##### Tokenizing Test Data"
   ]
  },
  {
   "cell_type": "code",
   "execution_count": 20,
   "metadata": {},
   "outputs": [
    {
     "data": {
      "text/plain": [
       "count    152990.000000\n",
       "mean         34.918230\n",
       "std          66.595534\n",
       "min           1.000000\n",
       "25%           8.000000\n",
       "50%          17.000000\n",
       "75%          36.000000\n",
       "max        4556.000000\n",
       "Name: length, dtype: float64"
      ]
     },
     "execution_count": 20,
     "metadata": {},
     "output_type": "execute_result"
    }
   ],
   "source": [
    "test_df_tt = myTokenizer(test_df, \"TweetTokenizer\")\n",
    "test_df_tt = test_df_tt[test_df_tt['length']!=0]\n",
    "test_df_tt['length'].describe()"
   ]
  },
  {
   "cell_type": "markdown",
   "metadata": {},
   "source": [
    "##### Tokenizing Tweet Data"
   ]
  },
  {
   "cell_type": "code",
   "execution_count": 21,
   "metadata": {},
   "outputs": [
    {
     "data": {
      "text/plain": [
       "count    926702.000000\n",
       "mean          6.481227\n",
       "std           4.509877\n",
       "min           1.000000\n",
       "25%           3.000000\n",
       "50%           6.000000\n",
       "75%           9.000000\n",
       "max          55.000000\n",
       "Name: length, dtype: float64"
      ]
     },
     "execution_count": 21,
     "metadata": {},
     "output_type": "execute_result"
    }
   ],
   "source": [
    "tweet_df_tt = myTokenizer(tweet_df, \"TweetTokenizer\")\n",
    "tweet_df_tt = tweet_df_tt[tweet_df_tt['length']!=0]\n",
    "tweet_df_tt = tweet_df_tt[tweet_df_tt.notna()]\n",
    "tweet_df_tt['length'].describe()"
   ]
  },
  {
   "cell_type": "code",
   "execution_count": 22,
   "metadata": {},
   "outputs": [],
   "source": [
    "def showFreqDist(data_tokens):\n",
    "    full_data_tokens = []\n",
    "    for data_tokens_ITEM in data_tokens:\n",
    "        full_data_tokens.extend(data_tokens_ITEM)\n",
    "    fdist = FreqDist(full_data_tokens)\n",
    "    plt.figure(figsize=(20,5))\n",
    "    fdist.plot(60,cumulative=False)\n",
    "    plt.show()\n",
    "    return fdist"
   ]
  },
  {
   "cell_type": "markdown",
   "metadata": {},
   "source": [
    "##### Most common elements of Twitter tokenizer results"
   ]
  },
  {
   "cell_type": "code",
   "execution_count": 23,
   "metadata": {},
   "outputs": [
    {
     "data": {
      "image/png": "[encoded data removed]",
      "text/plain": [
       "<Figure size 1440x360 with 1 Axes>"
      ]
     },
     "metadata": {},
     "output_type": "display_data"
    }
   ],
   "source": [
    "fdist_train_tt = showFreqDist(train_df_tt['tokens'])"
   ]
  },
  {
   "cell_type": "markdown",
   "metadata": {},
   "source": [
    "##### Most common elements of regular word tokenizer results"
   ]
  },
  {
   "cell_type": "code",
   "execution_count": 24,
   "metadata": {},
   "outputs": [
    {
     "data": {
      "image/png": "[encoded data removed]",
      "text/plain": [
       "<Figure size 1440x360 with 1 Axes>"
      ]
     },
     "metadata": {},
     "output_type": "display_data"
    }
   ],
   "source": [
    "fdist_train_wt = showFreqDist(train_df_wt['tokens'])"
   ]
  },
  {
   "cell_type": "markdown",
   "metadata": {},
   "source": [
    "##### Most common elements from the twitter data with Twitter Tokenizer"
   ]
  },
  {
   "cell_type": "code",
   "execution_count": 25,
   "metadata": {},
   "outputs": [
    {
     "data": {
      "image/png": "[encoded data removed]",
      "text/plain": [
       "<Figure size 1440x360 with 1 Axes>"
      ]
     },
     "metadata": {},
     "output_type": "display_data"
    }
   ],
   "source": [
    "tweet_df_tt = tweet_df_tt[tweet_df_tt['tokens'].notna()]\n",
    "fdist_tweet_tt = showFreqDist(tweet_df_tt['tokens'])"
   ]
  },
  {
   "cell_type": "markdown",
   "metadata": {},
   "source": [
    "##### Most common elements from the test data with Twitter Tokenizer"
   ]
  },
  {
   "cell_type": "code",
   "execution_count": 26,
   "metadata": {},
   "outputs": [
    {
     "data": {
      "image/png": "[encoded data removed]",
      "text/plain": [
       "<Figure size 1440x360 with 1 Axes>"
      ]
     },
     "metadata": {},
     "output_type": "display_data"
    }
   ],
   "source": [
    "fdist_test_tt = showFreqDist(test_df_tt['tokens'])"
   ]
  },
  {
   "cell_type": "markdown",
   "metadata": {},
   "source": [
    "##### Vocabulary size based on Wikipedia comments"
   ]
  },
  {
   "cell_type": "code",
   "execution_count": 27,
   "metadata": {},
   "outputs": [
    {
     "name": "stdout",
     "output_type": "stream",
     "text": [
      "Vocabulary size:\n",
      "Twitter Tokenizer: 163279\n",
      "Word Tokenizer: 169130\n",
      "Test vocab length after applying Twitter Tokenizer: 219608\n",
      "Tweet vocab length after applying Twitter Tokenizer: 207297\n"
     ]
    }
   ],
   "source": [
    "print('Vocabulary size:')\n",
    "vocab_tt = np.fromiter(fdist_train_tt.keys(),dtype=np.dtype(('U50', 1)))\n",
    "vocab_wt = np.fromiter(fdist_train_wt.keys(),dtype=np.dtype(('U50', 1)))\n",
    "vocab_test_tt = np.fromiter(fdist_test_tt.keys(),dtype=np.dtype(('U50', 1)))\n",
    "vocab_tweet_tt = np.fromiter(fdist_tweet_tt.keys(),dtype=np.dtype(('U50', 1)))\n",
    "print('Twitter Tokenizer: '+str(vocab_tt.shape[0]))\n",
    "print('Word Tokenizer: '+str(vocab_wt.shape[0]))\n",
    "print('Test vocab length after applying Twitter Tokenizer: '+str(vocab_test_tt.shape[0]))\n",
    "print('Tweet vocab length after applying Twitter Tokenizer: '+str(vocab_tweet_tt.shape[0]))"
   ]
  },
  {
   "cell_type": "markdown",
   "metadata": {},
   "source": [
    "It looks like a lot of apostrphied words have been considered as seperate tokens in word tokenization while a word like \"don't\" is still considered as a complete word in twitter tokensization. There are about 177k words in the vocabulary from either tokenization menthod."
   ]
  },
  {
   "cell_type": "code",
   "execution_count": 28,
   "metadata": {},
   "outputs": [
    {
     "name": "stdout",
     "output_type": "stream",
     "text": [
      "There is a difference of 144386 words between train and test data\n"
     ]
    }
   ],
   "source": [
    "print('There is a difference of '+str(np.setdiff1d(vocab_test_tt,vocab_tt).shape[0])+' words between train and test data')"
   ]
  },
  {
   "cell_type": "code",
   "execution_count": 29,
   "metadata": {},
   "outputs": [
    {
     "name": "stdout",
     "output_type": "stream",
     "text": [
      "Overall vocabulary length using unique words from train and test data is 307656 words\n"
     ]
    }
   ],
   "source": [
    "print('Overall vocabulary length using unique words from train and test data is '\n",
    "+str(len(set(np.append(vocab_test_tt,vocab_tt))))+' words')"
   ]
  },
  {
   "cell_type": "code",
   "execution_count": 30,
   "metadata": {},
   "outputs": [
    {
     "name": "stdout",
     "output_type": "stream",
     "text": [
      "Overall vocabulary length using unique words from Wikipedia train, tweet and test data is 458864 words\n"
     ]
    }
   ],
   "source": [
    "print('Overall vocabulary length using unique words from Wikipedia train, tweet and test data is '\n",
    "+str(len(set(\n",
    "    np.append(np.append(vocab_test_tt,vocab_tt),vocab_tweet_tt)\n",
    ")))+' words')"
   ]
  },
  {
   "cell_type": "markdown",
   "metadata": {},
   "source": [
    "# 3. Converting tokens into feature vector\n",
    "\n",
    "Word Embedding is a language modeling technique used for mapping words to vectors of real numbers. It represents words or phrases in vector space with several dimensions. Word embeddings can be generated using various methods like neural networks, co-occurrence matrix, probabilistic models, etc."
   ]
  },
  {
   "cell_type": "markdown",
   "metadata": {},
   "source": [
    "### 3.1 Bag of Word"
   ]
  },
  {
   "cell_type": "code",
   "execution_count": 31,
   "metadata": {},
   "outputs": [],
   "source": [
    "def w2v(tokens, epochs, min_count,vector_size,window_size,sg,model_name):\n",
    "    model = Word2Vec(tokens, iter = epochs, min_count=min_count,size=vector_size,window=window_size,sg=sg)\n",
    "    model.save(model_name)\n",
    "    return model"
   ]
  },
  {
   "cell_type": "code",
   "execution_count": 32,
   "metadata": {},
   "outputs": [],
   "source": [
    "w2v_accuracy_df = pd.read_csv('w2v_accuracy.csv')\n",
    "category_LIST = w2v_accuracy_df['category'].unique()\n",
    "model_accuracy_df = pd.DataFrame()\n",
    "model_accuracy_df['category'] = category_LIST\n",
    "def check_we_accuracy(model,model_name):\n",
    "    model_comparison = model.wv.accuracy('w2v_accuracy.txt')\n",
    "    accuracy = []\n",
    "    for category_LIST_ITEM in category_LIST:\n",
    "        c = len(model_comparison[np.where(category_LIST == category_LIST_ITEM)[0][0]]['correct'])\n",
    "        ic = len(model_comparison[np.where(category_LIST == category_LIST_ITEM)[0][0]]['incorrect'])\n",
    "        accuracy.append(round(100*c/(c+ic),2))\n",
    "    model_accuracy_df[model_name] = accuracy"
   ]
  },
  {
   "cell_type": "code",
   "execution_count": 33,
   "metadata": {},
   "outputs": [
    {
     "data": {
      "text/html": [
       "<div>\n",
       "<style scoped>\n",
       "    .dataframe tbody tr th:only-of-type {\n",
       "        vertical-align: middle;\n",
       "    }\n",
       "\n",
       "    .dataframe tbody tr th {\n",
       "        vertical-align: top;\n",
       "    }\n",
       "\n",
       "    .dataframe thead th {\n",
       "        text-align: right;\n",
       "    }\n",
       "</style>\n",
       "<table border=\"1\" class=\"dataframe\">\n",
       "  <thead>\n",
       "    <tr style=\"text-align: right;\">\n",
       "      <th></th>\n",
       "      <th>Unnamed: 0</th>\n",
       "      <th>id</th>\n",
       "      <th>comment_text</th>\n",
       "      <th>length</th>\n",
       "      <th>tokens</th>\n",
       "      <th>toxic</th>\n",
       "      <th>severe_toxic</th>\n",
       "      <th>obscene</th>\n",
       "      <th>threat</th>\n",
       "      <th>insult</th>\n",
       "      <th>identity_hate</th>\n",
       "      <th>all comments</th>\n",
       "    </tr>\n",
       "  </thead>\n",
       "  <tbody>\n",
       "    <tr>\n",
       "      <th>2</th>\n",
       "      <td>2.0</td>\n",
       "      <td>8.496330e+17</td>\n",
       "      <td>lol nah it ain' that serious. honestly just l...</td>\n",
       "      <td>10.0</td>\n",
       "      <td>[lol, nah, serious, honestly, like, pissed, du...</td>\n",
       "      <td>0</td>\n",
       "      <td>0</td>\n",
       "      <td>0</td>\n",
       "      <td>0</td>\n",
       "      <td>0</td>\n",
       "      <td>0</td>\n",
       "      <td>0</td>\n",
       "    </tr>\n",
       "    <tr>\n",
       "      <th>3</th>\n",
       "      <td>3.0</td>\n",
       "      <td>8.496320e+17</td>\n",
       "      <td>just another bitter Duke fan waiting for the ...</td>\n",
       "      <td>8.0</td>\n",
       "      <td>[another, bitter, duke, fan, waiting, season, ...</td>\n",
       "      <td>0</td>\n",
       "      <td>0</td>\n",
       "      <td>0</td>\n",
       "      <td>0</td>\n",
       "      <td>0</td>\n",
       "      <td>0</td>\n",
       "      <td>0</td>\n",
       "    </tr>\n",
       "    <tr>\n",
       "      <th>4</th>\n",
       "      <td>4.0</td>\n",
       "      <td>8.496320e+17</td>\n",
       "      <td>actually, no. Someone told me should see beca...</td>\n",
       "      <td>9.0</td>\n",
       "      <td>[actually, someone, told, see, coward, like, k...</td>\n",
       "      <td>0</td>\n",
       "      <td>0</td>\n",
       "      <td>0</td>\n",
       "      <td>0</td>\n",
       "      <td>0</td>\n",
       "      <td>0</td>\n",
       "      <td>0</td>\n",
       "    </tr>\n",
       "    <tr>\n",
       "      <th>5</th>\n",
       "      <td>5.0</td>\n",
       "      <td>8.496220e+17</td>\n",
       "      <td>and? Who gone stop me?</td>\n",
       "      <td>3.0</td>\n",
       "      <td>[who, gone, stop]</td>\n",
       "      <td>0</td>\n",
       "      <td>0</td>\n",
       "      <td>0</td>\n",
       "      <td>0</td>\n",
       "      <td>0</td>\n",
       "      <td>0</td>\n",
       "      <td>0</td>\n",
       "    </tr>\n",
       "    <tr>\n",
       "      <th>6</th>\n",
       "      <td>6.0</td>\n",
       "      <td>8.471380e+17</td>\n",
       "      <td>actually, was on campus about month ago</td>\n",
       "      <td>4.0</td>\n",
       "      <td>[actually, campus, month, ago]</td>\n",
       "      <td>0</td>\n",
       "      <td>0</td>\n",
       "      <td>0</td>\n",
       "      <td>0</td>\n",
       "      <td>0</td>\n",
       "      <td>0</td>\n",
       "      <td>0</td>\n",
       "    </tr>\n",
       "  </tbody>\n",
       "</table>\n",
       "</div>"
      ],
      "text/plain": [
       "   Unnamed: 0            id  \\\n",
       "2         2.0  8.496330e+17   \n",
       "3         3.0  8.496320e+17   \n",
       "4         4.0  8.496320e+17   \n",
       "5         5.0  8.496220e+17   \n",
       "6         6.0  8.471380e+17   \n",
       "\n",
       "                                        comment_text  length  \\\n",
       "2   lol nah it ain' that serious. honestly just l...    10.0   \n",
       "3   just another bitter Duke fan waiting for the ...     8.0   \n",
       "4   actually, no. Someone told me should see beca...     9.0   \n",
       "5                             and? Who gone stop me?     3.0   \n",
       "6           actually, was on campus about month ago      4.0   \n",
       "\n",
       "                                              tokens  toxic  severe_toxic  \\\n",
       "2  [lol, nah, serious, honestly, like, pissed, du...      0             0   \n",
       "3  [another, bitter, duke, fan, waiting, season, ...      0             0   \n",
       "4  [actually, someone, told, see, coward, like, k...      0             0   \n",
       "5                                  [who, gone, stop]      0             0   \n",
       "6                     [actually, campus, month, ago]      0             0   \n",
       "\n",
       "   obscene  threat  insult  identity_hate  all comments  \n",
       "2        0       0       0              0             0  \n",
       "3        0       0       0              0             0  \n",
       "4        0       0       0              0             0  \n",
       "5        0       0       0              0             0  \n",
       "6        0       0       0              0             0  "
      ]
     },
     "execution_count": 33,
     "metadata": {},
     "output_type": "execute_result"
    }
   ],
   "source": [
    "#tweet_df_tt = tweet_df_tt.drop(['Unnamed: 0'],axis=1)\n",
    "tweet_df_tt1 = tweet_df_tt.drop(['tweet','is_retweet','len','date','source','likes','retweets','screenname','followers','sentiment'],axis=1)\n",
    "tweet_df_tt1['toxic'] = 0\n",
    "tweet_df_tt1['severe_toxic'] = 0\n",
    "tweet_df_tt1['obscene'] = 0\n",
    "tweet_df_tt1['threat'] = 0\n",
    "tweet_df_tt1['insult'] = 0\n",
    "tweet_df_tt1['identity_hate'] = 0\n",
    "tweet_df_tt1['all comments'] = 0\n",
    "tweet_df_tt1.head()"
   ]
  },
  {
   "cell_type": "code",
   "execution_count": 34,
   "metadata": {},
   "outputs": [],
   "source": [
    "train_df_tt['type']='Train'\n",
    "test_df_tt['type']='Test'\n",
    "tweet_df_tt1['type']='Tweet'\n",
    "data_df1 = train_df_tt.append(test_df_tt, sort=False)\n",
    "data_df = data_df1.append(tweet_df_tt1, sort=False)"
   ]
  },
  {
   "cell_type": "markdown",
   "metadata": {},
   "source": [
    "##### CBOW Model 1-5"
   ]
  },
  {
   "cell_type": "code",
   "execution_count": 87,
   "metadata": {},
   "outputs": [
    {
     "name": "stderr",
     "output_type": "stream",
     "text": [
      "/Users/anishphilljoe/anaconda3/lib/python3.6/site-packages/smart_open/smart_open_lib.py:398: UserWarning: This function is deprecated, use smart_open.open instead. See the migration notes for details: https://github.com/RaRe-Technologies/smart_open/blob/master/README.rst#migrating-to-the-new-open-function\n",
      "  'See the migration notes for details: %s' % _MIGRATION_NOTES_URL\n"
     ]
    }
   ],
   "source": [
    "model1 = w2v(data_df['tokens'], 10, 1, 200, 5, 0, 'model1.bin')"
   ]
  },
  {
   "cell_type": "code",
   "execution_count": 88,
   "metadata": {},
   "outputs": [
    {
     "name": "stderr",
     "output_type": "stream",
     "text": [
      "/Users/anishphilljoe/anaconda3/lib/python3.6/site-packages/smart_open/smart_open_lib.py:398: UserWarning: This function is deprecated, use smart_open.open instead. See the migration notes for details: https://github.com/RaRe-Technologies/smart_open/blob/master/README.rst#migrating-to-the-new-open-function\n",
      "  'See the migration notes for details: %s' % _MIGRATION_NOTES_URL\n"
     ]
    }
   ],
   "source": [
    "check_we_accuracy(model1,'model1.bin')"
   ]
  },
  {
   "cell_type": "code",
   "execution_count": 91,
   "metadata": {},
   "outputs": [
    {
     "name": "stderr",
     "output_type": "stream",
     "text": [
      "/Users/anishphilljoe/anaconda3/lib/python3.6/site-packages/smart_open/smart_open_lib.py:398: UserWarning: This function is deprecated, use smart_open.open instead. See the migration notes for details: https://github.com/RaRe-Technologies/smart_open/blob/master/README.rst#migrating-to-the-new-open-function\n",
      "  'See the migration notes for details: %s' % _MIGRATION_NOTES_URL\n"
     ]
    }
   ],
   "source": [
    "model2 = w2v(data_df['tokens'], 20, 1, 200, 5, 0, 'model2.bin')"
   ]
  },
  {
   "cell_type": "code",
   "execution_count": 92,
   "metadata": {},
   "outputs": [
    {
     "name": "stderr",
     "output_type": "stream",
     "text": [
      "/Users/anishphilljoe/anaconda3/lib/python3.6/site-packages/smart_open/smart_open_lib.py:398: UserWarning: This function is deprecated, use smart_open.open instead. See the migration notes for details: https://github.com/RaRe-Technologies/smart_open/blob/master/README.rst#migrating-to-the-new-open-function\n",
      "  'See the migration notes for details: %s' % _MIGRATION_NOTES_URL\n"
     ]
    }
   ],
   "source": [
    "check_we_accuracy(model2,'model2.bin')"
   ]
  },
  {
   "cell_type": "code",
   "execution_count": 93,
   "metadata": {},
   "outputs": [
    {
     "name": "stderr",
     "output_type": "stream",
     "text": [
      "/Users/anishphilljoe/anaconda3/lib/python3.6/site-packages/smart_open/smart_open_lib.py:398: UserWarning: This function is deprecated, use smart_open.open instead. See the migration notes for details: https://github.com/RaRe-Technologies/smart_open/blob/master/README.rst#migrating-to-the-new-open-function\n",
      "  'See the migration notes for details: %s' % _MIGRATION_NOTES_URL\n"
     ]
    }
   ],
   "source": [
    "model3 = w2v(data_df['tokens'], 10, 1, 200, 15, 0, 'model3.bin')"
   ]
  },
  {
   "cell_type": "code",
   "execution_count": 94,
   "metadata": {},
   "outputs": [
    {
     "name": "stderr",
     "output_type": "stream",
     "text": [
      "/Users/anishphilljoe/anaconda3/lib/python3.6/site-packages/smart_open/smart_open_lib.py:398: UserWarning: This function is deprecated, use smart_open.open instead. See the migration notes for details: https://github.com/RaRe-Technologies/smart_open/blob/master/README.rst#migrating-to-the-new-open-function\n",
      "  'See the migration notes for details: %s' % _MIGRATION_NOTES_URL\n"
     ]
    }
   ],
   "source": [
    "check_we_accuracy(model3,'model3.bin')"
   ]
  },
  {
   "cell_type": "code",
   "execution_count": 95,
   "metadata": {},
   "outputs": [
    {
     "name": "stderr",
     "output_type": "stream",
     "text": [
      "/Users/anishphilljoe/anaconda3/lib/python3.6/site-packages/smart_open/smart_open_lib.py:398: UserWarning: This function is deprecated, use smart_open.open instead. See the migration notes for details: https://github.com/RaRe-Technologies/smart_open/blob/master/README.rst#migrating-to-the-new-open-function\n",
      "  'See the migration notes for details: %s' % _MIGRATION_NOTES_URL\n"
     ]
    }
   ],
   "source": [
    "model4 = w2v(data_df['tokens'], 10, 1, 300, 15, 0, 'model4.bin')"
   ]
  },
  {
   "cell_type": "code",
   "execution_count": 96,
   "metadata": {},
   "outputs": [
    {
     "name": "stderr",
     "output_type": "stream",
     "text": [
      "/Users/anishphilljoe/anaconda3/lib/python3.6/site-packages/smart_open/smart_open_lib.py:398: UserWarning: This function is deprecated, use smart_open.open instead. See the migration notes for details: https://github.com/RaRe-Technologies/smart_open/blob/master/README.rst#migrating-to-the-new-open-function\n",
      "  'See the migration notes for details: %s' % _MIGRATION_NOTES_URL\n"
     ]
    }
   ],
   "source": [
    "check_we_accuracy(model4,'model4.bin')"
   ]
  },
  {
   "cell_type": "code",
   "execution_count": 97,
   "metadata": {},
   "outputs": [
    {
     "name": "stderr",
     "output_type": "stream",
     "text": [
      "/Users/anishphilljoe/anaconda3/lib/python3.6/site-packages/smart_open/smart_open_lib.py:398: UserWarning: This function is deprecated, use smart_open.open instead. See the migration notes for details: https://github.com/RaRe-Technologies/smart_open/blob/master/README.rst#migrating-to-the-new-open-function\n",
      "  'See the migration notes for details: %s' % _MIGRATION_NOTES_URL\n"
     ]
    }
   ],
   "source": [
    "model5 = w2v(data_df['tokens'], 10, 2, 300, 15, 0, 'model5.bin')"
   ]
  },
  {
   "cell_type": "code",
   "execution_count": 98,
   "metadata": {},
   "outputs": [
    {
     "name": "stderr",
     "output_type": "stream",
     "text": [
      "/Users/anishphilljoe/anaconda3/lib/python3.6/site-packages/smart_open/smart_open_lib.py:398: UserWarning: This function is deprecated, use smart_open.open instead. See the migration notes for details: https://github.com/RaRe-Technologies/smart_open/blob/master/README.rst#migrating-to-the-new-open-function\n",
      "  'See the migration notes for details: %s' % _MIGRATION_NOTES_URL\n"
     ]
    }
   ],
   "source": [
    "check_we_accuracy(model5,'model5.bin')"
   ]
  },
  {
   "cell_type": "markdown",
   "metadata": {},
   "source": [
    "##### Ngram model 5-14"
   ]
  },
  {
   "cell_type": "code",
   "execution_count": 99,
   "metadata": {},
   "outputs": [
    {
     "name": "stderr",
     "output_type": "stream",
     "text": [
      "/Users/anishphilljoe/anaconda3/lib/python3.6/site-packages/smart_open/smart_open_lib.py:398: UserWarning: This function is deprecated, use smart_open.open instead. See the migration notes for details: https://github.com/RaRe-Technologies/smart_open/blob/master/README.rst#migrating-to-the-new-open-function\n",
      "  'See the migration notes for details: %s' % _MIGRATION_NOTES_URL\n"
     ]
    }
   ],
   "source": [
    "model6 = w2v(data_df['tokens'], 10, 1, 200, 5, 1, 'model6.bin')"
   ]
  },
  {
   "cell_type": "code",
   "execution_count": 100,
   "metadata": {},
   "outputs": [
    {
     "name": "stderr",
     "output_type": "stream",
     "text": [
      "/Users/anishphilljoe/anaconda3/lib/python3.6/site-packages/smart_open/smart_open_lib.py:398: UserWarning: This function is deprecated, use smart_open.open instead. See the migration notes for details: https://github.com/RaRe-Technologies/smart_open/blob/master/README.rst#migrating-to-the-new-open-function\n",
      "  'See the migration notes for details: %s' % _MIGRATION_NOTES_URL\n"
     ]
    }
   ],
   "source": [
    "check_we_accuracy(model6,'model6.bin')"
   ]
  },
  {
   "cell_type": "code",
   "execution_count": 108,
   "metadata": {},
   "outputs": [
    {
     "name": "stderr",
     "output_type": "stream",
     "text": [
      "/Users/anishphilljoe/anaconda3/lib/python3.6/site-packages/smart_open/smart_open_lib.py:398: UserWarning: This function is deprecated, use smart_open.open instead. See the migration notes for details: https://github.com/RaRe-Technologies/smart_open/blob/master/README.rst#migrating-to-the-new-open-function\n",
      "  'See the migration notes for details: %s' % _MIGRATION_NOTES_URL\n"
     ]
    }
   ],
   "source": [
    "model7 = w2v(data_df['tokens'], 20, 2, 200, 10, 1, 'model7.bin')"
   ]
  },
  {
   "cell_type": "code",
   "execution_count": 109,
   "metadata": {},
   "outputs": [
    {
     "name": "stderr",
     "output_type": "stream",
     "text": [
      "/Users/anishphilljoe/anaconda3/lib/python3.6/site-packages/smart_open/smart_open_lib.py:398: UserWarning: This function is deprecated, use smart_open.open instead. See the migration notes for details: https://github.com/RaRe-Technologies/smart_open/blob/master/README.rst#migrating-to-the-new-open-function\n",
      "  'See the migration notes for details: %s' % _MIGRATION_NOTES_URL\n"
     ]
    }
   ],
   "source": [
    "check_we_accuracy(model7,'model7.bin')"
   ]
  },
  {
   "cell_type": "code",
   "execution_count": 110,
   "metadata": {},
   "outputs": [
    {
     "name": "stderr",
     "output_type": "stream",
     "text": [
      "/Users/anishphilljoe/anaconda3/lib/python3.6/site-packages/smart_open/smart_open_lib.py:398: UserWarning: This function is deprecated, use smart_open.open instead. See the migration notes for details: https://github.com/RaRe-Technologies/smart_open/blob/master/README.rst#migrating-to-the-new-open-function\n",
      "  'See the migration notes for details: %s' % _MIGRATION_NOTES_URL\n"
     ]
    }
   ],
   "source": [
    "model8 = w2v(data_df['tokens'], 10, 2, 200, 15, 1, 'model8.bin')"
   ]
  },
  {
   "cell_type": "code",
   "execution_count": 111,
   "metadata": {},
   "outputs": [
    {
     "name": "stderr",
     "output_type": "stream",
     "text": [
      "/Users/anishphilljoe/anaconda3/lib/python3.6/site-packages/smart_open/smart_open_lib.py:398: UserWarning: This function is deprecated, use smart_open.open instead. See the migration notes for details: https://github.com/RaRe-Technologies/smart_open/blob/master/README.rst#migrating-to-the-new-open-function\n",
      "  'See the migration notes for details: %s' % _MIGRATION_NOTES_URL\n"
     ]
    }
   ],
   "source": [
    "check_we_accuracy(model8,'model8.bin')"
   ]
  },
  {
   "cell_type": "code",
   "execution_count": 116,
   "metadata": {},
   "outputs": [
    {
     "name": "stderr",
     "output_type": "stream",
     "text": [
      "/Users/anishphilljoe/anaconda3/lib/python3.6/site-packages/smart_open/smart_open_lib.py:398: UserWarning: This function is deprecated, use smart_open.open instead. See the migration notes for details: https://github.com/RaRe-Technologies/smart_open/blob/master/README.rst#migrating-to-the-new-open-function\n",
      "  'See the migration notes for details: %s' % _MIGRATION_NOTES_URL\n"
     ]
    }
   ],
   "source": [
    "model9 = w2v(data_df['tokens'], 20, 1, 200, 15, 1, 'model9.bin')"
   ]
  },
  {
   "cell_type": "code",
   "execution_count": 117,
   "metadata": {},
   "outputs": [
    {
     "name": "stderr",
     "output_type": "stream",
     "text": [
      "/Users/anishphilljoe/anaconda3/lib/python3.6/site-packages/smart_open/smart_open_lib.py:398: UserWarning: This function is deprecated, use smart_open.open instead. See the migration notes for details: https://github.com/RaRe-Technologies/smart_open/blob/master/README.rst#migrating-to-the-new-open-function\n",
      "  'See the migration notes for details: %s' % _MIGRATION_NOTES_URL\n"
     ]
    }
   ],
   "source": [
    "check_we_accuracy(model9,'model9.bin')"
   ]
  },
  {
   "cell_type": "code",
   "execution_count": 118,
   "metadata": {},
   "outputs": [
    {
     "name": "stderr",
     "output_type": "stream",
     "text": [
      "/Users/anishphilljoe/anaconda3/lib/python3.6/site-packages/smart_open/smart_open_lib.py:398: UserWarning: This function is deprecated, use smart_open.open instead. See the migration notes for details: https://github.com/RaRe-Technologies/smart_open/blob/master/README.rst#migrating-to-the-new-open-function\n",
      "  'See the migration notes for details: %s' % _MIGRATION_NOTES_URL\n"
     ]
    }
   ],
   "source": [
    "model10 = w2v(data_df['tokens'], 20, 2, 200, 15, 1, 'model10.bin')"
   ]
  },
  {
   "cell_type": "code",
   "execution_count": 119,
   "metadata": {},
   "outputs": [
    {
     "name": "stderr",
     "output_type": "stream",
     "text": [
      "/Users/anishphilljoe/anaconda3/lib/python3.6/site-packages/smart_open/smart_open_lib.py:398: UserWarning: This function is deprecated, use smart_open.open instead. See the migration notes for details: https://github.com/RaRe-Technologies/smart_open/blob/master/README.rst#migrating-to-the-new-open-function\n",
      "  'See the migration notes for details: %s' % _MIGRATION_NOTES_URL\n"
     ]
    }
   ],
   "source": [
    "check_we_accuracy(model10,'model10.bin')"
   ]
  },
  {
   "cell_type": "code",
   "execution_count": 120,
   "metadata": {},
   "outputs": [
    {
     "name": "stderr",
     "output_type": "stream",
     "text": [
      "/Users/anishphilljoe/anaconda3/lib/python3.6/site-packages/smart_open/smart_open_lib.py:398: UserWarning: This function is deprecated, use smart_open.open instead. See the migration notes for details: https://github.com/RaRe-Technologies/smart_open/blob/master/README.rst#migrating-to-the-new-open-function\n",
      "  'See the migration notes for details: %s' % _MIGRATION_NOTES_URL\n"
     ]
    }
   ],
   "source": [
    "model11 = w2v(data_df['tokens'], 20, 1, 300, 15, 1, 'model11.bin')"
   ]
  },
  {
   "cell_type": "code",
   "execution_count": 121,
   "metadata": {},
   "outputs": [
    {
     "name": "stderr",
     "output_type": "stream",
     "text": [
      "/Users/anishphilljoe/anaconda3/lib/python3.6/site-packages/smart_open/smart_open_lib.py:398: UserWarning: This function is deprecated, use smart_open.open instead. See the migration notes for details: https://github.com/RaRe-Technologies/smart_open/blob/master/README.rst#migrating-to-the-new-open-function\n",
      "  'See the migration notes for details: %s' % _MIGRATION_NOTES_URL\n"
     ]
    }
   ],
   "source": [
    "check_we_accuracy(model11,'model11.bin')"
   ]
  },
  {
   "cell_type": "code",
   "execution_count": 126,
   "metadata": {},
   "outputs": [
    {
     "name": "stderr",
     "output_type": "stream",
     "text": [
      "/Users/anishphilljoe/anaconda3/lib/python3.6/site-packages/smart_open/smart_open_lib.py:398: UserWarning: This function is deprecated, use smart_open.open instead. See the migration notes for details: https://github.com/RaRe-Technologies/smart_open/blob/master/README.rst#migrating-to-the-new-open-function\n",
      "  'See the migration notes for details: %s' % _MIGRATION_NOTES_URL\n"
     ]
    }
   ],
   "source": [
    "model12 = w2v(data_df['tokens'], 20, 1, 100, 15, 1, 'model12.bin')"
   ]
  },
  {
   "cell_type": "code",
   "execution_count": 127,
   "metadata": {},
   "outputs": [
    {
     "name": "stderr",
     "output_type": "stream",
     "text": [
      "/Users/anishphilljoe/anaconda3/lib/python3.6/site-packages/smart_open/smart_open_lib.py:398: UserWarning: This function is deprecated, use smart_open.open instead. See the migration notes for details: https://github.com/RaRe-Technologies/smart_open/blob/master/README.rst#migrating-to-the-new-open-function\n",
      "  'See the migration notes for details: %s' % _MIGRATION_NOTES_URL\n"
     ]
    }
   ],
   "source": [
    "check_we_accuracy(model12,'model12.bin')"
   ]
  },
  {
   "cell_type": "code",
   "execution_count": 128,
   "metadata": {},
   "outputs": [
    {
     "name": "stderr",
     "output_type": "stream",
     "text": [
      "/Users/anishphilljoe/anaconda3/lib/python3.6/site-packages/smart_open/smart_open_lib.py:398: UserWarning: This function is deprecated, use smart_open.open instead. See the migration notes for details: https://github.com/RaRe-Technologies/smart_open/blob/master/README.rst#migrating-to-the-new-open-function\n",
      "  'See the migration notes for details: %s' % _MIGRATION_NOTES_URL\n"
     ]
    }
   ],
   "source": [
    "model13 = w2v(data_df['tokens'], 20, 2, 300, 15, 1, 'model13.bin')"
   ]
  },
  {
   "cell_type": "code",
   "execution_count": 129,
   "metadata": {},
   "outputs": [
    {
     "name": "stderr",
     "output_type": "stream",
     "text": [
      "/Users/anishphilljoe/anaconda3/lib/python3.6/site-packages/smart_open/smart_open_lib.py:398: UserWarning: This function is deprecated, use smart_open.open instead. See the migration notes for details: https://github.com/RaRe-Technologies/smart_open/blob/master/README.rst#migrating-to-the-new-open-function\n",
      "  'See the migration notes for details: %s' % _MIGRATION_NOTES_URL\n"
     ]
    }
   ],
   "source": [
    "check_we_accuracy(model13,'model13.bin')"
   ]
  },
  {
   "cell_type": "code",
   "execution_count": 133,
   "metadata": {},
   "outputs": [
    {
     "name": "stderr",
     "output_type": "stream",
     "text": [
      "/Users/anishphilljoe/anaconda3/lib/python3.6/site-packages/smart_open/smart_open_lib.py:398: UserWarning: This function is deprecated, use smart_open.open instead. See the migration notes for details: https://github.com/RaRe-Technologies/smart_open/blob/master/README.rst#migrating-to-the-new-open-function\n",
      "  'See the migration notes for details: %s' % _MIGRATION_NOTES_URL\n"
     ]
    }
   ],
   "source": [
    "model14 = w2v(data_df['tokens'], 20, 5, 200, 15, 1, 'model14.bin')"
   ]
  },
  {
   "cell_type": "code",
   "execution_count": 134,
   "metadata": {},
   "outputs": [
    {
     "name": "stderr",
     "output_type": "stream",
     "text": [
      "/Users/anishphilljoe/anaconda3/lib/python3.6/site-packages/smart_open/smart_open_lib.py:398: UserWarning: This function is deprecated, use smart_open.open instead. See the migration notes for details: https://github.com/RaRe-Technologies/smart_open/blob/master/README.rst#migrating-to-the-new-open-function\n",
      "  'See the migration notes for details: %s' % _MIGRATION_NOTES_URL\n"
     ]
    }
   ],
   "source": [
    "check_we_accuracy(model14,'model14.bin')"
   ]
  },
  {
   "cell_type": "markdown",
   "metadata": {},
   "source": [
    "##### Load Google News Trained model"
   ]
  },
  {
   "cell_type": "code",
   "execution_count": 136,
   "metadata": {},
   "outputs": [
    {
     "name": "stderr",
     "output_type": "stream",
     "text": [
      "/Users/anishphilljoe/anaconda3/lib/python3.6/site-packages/smart_open/smart_open_lib.py:398: UserWarning: This function is deprecated, use smart_open.open instead. See the migration notes for details: https://github.com/RaRe-Technologies/smart_open/blob/master/README.rst#migrating-to-the-new-open-function\n",
      "  'See the migration notes for details: %s' % _MIGRATION_NOTES_URL\n"
     ]
    }
   ],
   "source": [
    "# Load Google's pre-trained Word2Vec model.\n",
    "model_gn = gensim.models.KeyedVectors.load_word2vec_format('./GoogleNews-vectors-negative300.bin', binary=True)"
   ]
  },
  {
   "cell_type": "code",
   "execution_count": 174,
   "metadata": {},
   "outputs": [
    {
     "name": "stderr",
     "output_type": "stream",
     "text": [
      "/Users/anishphilljoe/anaconda3/lib/python3.6/site-packages/ipykernel_launcher.py:6: DeprecationWarning: Call to deprecated `wv` (Attribute will be removed in 4.0.0, use self instead).\n",
      "  \n",
      "/Users/anishphilljoe/anaconda3/lib/python3.6/site-packages/smart_open/smart_open_lib.py:398: UserWarning: This function is deprecated, use smart_open.open instead. See the migration notes for details: https://github.com/RaRe-Technologies/smart_open/blob/master/README.rst#migrating-to-the-new-open-function\n",
      "  'See the migration notes for details: %s' % _MIGRATION_NOTES_URL\n"
     ]
    }
   ],
   "source": [
    "check_we_accuracy(model_gn,'model_gn.bin')"
   ]
  },
  {
   "cell_type": "markdown",
   "metadata": {},
   "source": [
    "##### Load Keras IMDB review data and vectorise the tokens using Ngram"
   ]
  },
  {
   "cell_type": "code",
   "execution_count": 35,
   "metadata": {},
   "outputs": [],
   "source": [
    "(X_train, Y_train), (X_test, Y_test) = imdb.load_data()\n",
    "word_to_id = keras.datasets.imdb.get_word_index()\n",
    "word_to_id = {k:v+3 for k,v in word_to_id.items()}\n",
    "id_to_word = {value:key for key,value in word_to_id.items()}\n",
    "id_to_word[0]=''\n",
    "id_to_word[1]=''\n",
    "id_to_word[2]=''\n",
    "imdb_df = pd.DataFrame()\n",
    "comment = []\n",
    "for X_train_ITEM in X_train:\n",
    "     comment.append(' '.join(id_to_word[id] for id in X_train_ITEM))\n",
    "imdb_df['comment_text'] = comment\n",
    "imdb_df['toxic'] = Y_train"
   ]
  },
  {
   "cell_type": "code",
   "execution_count": 36,
   "metadata": {},
   "outputs": [
    {
     "data": {
      "text/plain": [
       "count    25000.000000\n",
       "mean       120.744120\n",
       "std         91.496229\n",
       "min          4.000000\n",
       "25%         64.000000\n",
       "50%         89.000000\n",
       "75%        147.000000\n",
       "max       1427.000000\n",
       "Name: length, dtype: float64"
      ]
     },
     "execution_count": 36,
     "metadata": {},
     "output_type": "execute_result"
    }
   ],
   "source": [
    "imdb_df_tt = myTokenizer(imdb_df, \"TweetTokenizer\")\n",
    "imdb_df_tt = imdb_df_tt[imdb_df_tt['length']!=0]\n",
    "imdb_df_tt = imdb_df_tt[imdb_df_tt.notna()]\n",
    "imdb_df_tt['length'].describe()"
   ]
  },
  {
   "cell_type": "code",
   "execution_count": 37,
   "metadata": {},
   "outputs": [
    {
     "data": {
      "image/png": "[encoded data removed]",
      "text/plain": [
       "<Figure size 1440x360 with 1 Axes>"
      ]
     },
     "metadata": {},
     "output_type": "display_data"
    }
   ],
   "source": [
    "fdist_imdb_tt = showFreqDist(imdb_df_tt['tokens'])"
   ]
  },
  {
   "cell_type": "code",
   "execution_count": 38,
   "metadata": {},
   "outputs": [],
   "source": [
    "data_imdb_df = data_df.append(imdb_df_tt, sort=False)"
   ]
  },
  {
   "cell_type": "code",
   "execution_count": null,
   "metadata": {},
   "outputs": [],
   "source": [
    "model15_imdb = w2v(data_imdb_df['tokens'], 20, 2, 200, 15, 1, 'model15_imdb.bin')"
   ]
  },
  {
   "cell_type": "code",
   "execution_count": 199,
   "metadata": {},
   "outputs": [
    {
     "name": "stderr",
     "output_type": "stream",
     "text": [
      "/Users/anishphilljoe/anaconda3/lib/python3.6/site-packages/smart_open/smart_open_lib.py:398: UserWarning: This function is deprecated, use smart_open.open instead. See the migration notes for details: https://github.com/RaRe-Technologies/smart_open/blob/master/README.rst#migrating-to-the-new-open-function\n",
      "  'See the migration notes for details: %s' % _MIGRATION_NOTES_URL\n"
     ]
    }
   ],
   "source": [
    "check_we_accuracy(model15_imdb,'model15_imdb.bin')"
   ]
  },
  {
   "cell_type": "markdown",
   "metadata": {},
   "source": [
    "##### Load More Random Tweets"
   ]
  },
  {
   "cell_type": "code",
   "execution_count": 39,
   "metadata": {},
   "outputs": [
    {
     "data": {
      "text/html": [
       "<div>\n",
       "<style scoped>\n",
       "    .dataframe tbody tr th:only-of-type {\n",
       "        vertical-align: middle;\n",
       "    }\n",
       "\n",
       "    .dataframe tbody tr th {\n",
       "        vertical-align: top;\n",
       "    }\n",
       "\n",
       "    .dataframe thead th {\n",
       "        text-align: right;\n",
       "    }\n",
       "</style>\n",
       "<table border=\"1\" class=\"dataframe\">\n",
       "  <thead>\n",
       "    <tr style=\"text-align: right;\">\n",
       "      <th></th>\n",
       "      <th>Id</th>\n",
       "      <th>comment_text</th>\n",
       "    </tr>\n",
       "  </thead>\n",
       "  <tbody>\n",
       "    <tr>\n",
       "      <th>0</th>\n",
       "      <td>1467810672</td>\n",
       "      <td>is upset that he can't update his Facebook by ...</td>\n",
       "    </tr>\n",
       "    <tr>\n",
       "      <th>1</th>\n",
       "      <td>1467810917</td>\n",
       "      <td>@Kenichan I dived many times for the ball. Man...</td>\n",
       "    </tr>\n",
       "    <tr>\n",
       "      <th>2</th>\n",
       "      <td>1467811184</td>\n",
       "      <td>my whole body feels itchy and like its on fire</td>\n",
       "    </tr>\n",
       "    <tr>\n",
       "      <th>3</th>\n",
       "      <td>1467811193</td>\n",
       "      <td>@nationwideclass no, it's not behaving at all....</td>\n",
       "    </tr>\n",
       "    <tr>\n",
       "      <th>4</th>\n",
       "      <td>1467811372</td>\n",
       "      <td>@Kwesidei not the whole crew</td>\n",
       "    </tr>\n",
       "  </tbody>\n",
       "</table>\n",
       "</div>"
      ],
      "text/plain": [
       "           Id                                       comment_text\n",
       "0  1467810672  is upset that he can't update his Facebook by ...\n",
       "1  1467810917  @Kenichan I dived many times for the ball. Man...\n",
       "2  1467811184    my whole body feels itchy and like its on fire \n",
       "3  1467811193  @nationwideclass no, it's not behaving at all....\n",
       "4  1467811372                      @Kwesidei not the whole crew "
      ]
     },
     "execution_count": 39,
     "metadata": {},
     "output_type": "execute_result"
    }
   ],
   "source": [
    "more_tweet_df = pd.read_csv('MoreTweets.csv')\n",
    "more_tweet_df.head()"
   ]
  },
  {
   "cell_type": "code",
   "execution_count": 40,
   "metadata": {},
   "outputs": [
    {
     "data": {
      "text/plain": [
       "count    530888.000000\n",
       "mean          8.328467\n",
       "std           4.562368\n",
       "min           1.000000\n",
       "25%           5.000000\n",
       "50%           8.000000\n",
       "75%          11.000000\n",
       "max         208.000000\n",
       "Name: length, dtype: float64"
      ]
     },
     "execution_count": 40,
     "metadata": {},
     "output_type": "execute_result"
    }
   ],
   "source": [
    "more_tweet_df_tt = myTokenizer(more_tweet_df, \"TweetTokenizer\")\n",
    "more_tweet_df_tt = more_tweet_df_tt[more_tweet_df_tt['length']!=0]\n",
    "more_tweet_df_tt = more_tweet_df_tt[more_tweet_df_tt.notna()]\n",
    "more_tweet_df_tt['length'].describe()"
   ]
  },
  {
   "cell_type": "code",
   "execution_count": 41,
   "metadata": {},
   "outputs": [
    {
     "data": {
      "image/png": "[encoded data removed]",
      "text/plain": [
       "<Figure size 1440x360 with 1 Axes>"
      ]
     },
     "metadata": {},
     "output_type": "display_data"
    }
   ],
   "source": [
    "fdist_more_tweet_tt = showFreqDist(more_tweet_df_tt['tokens'])"
   ]
  },
  {
   "cell_type": "code",
   "execution_count": 42,
   "metadata": {},
   "outputs": [],
   "source": [
    "data_more_tweet_df = data_imdb_df.append(more_tweet_df_tt, sort=False)"
   ]
  },
  {
   "cell_type": "code",
   "execution_count": 308,
   "metadata": {},
   "outputs": [
    {
     "name": "stderr",
     "output_type": "stream",
     "text": [
      "/Users/anishphilljoe/anaconda3/lib/python3.6/site-packages/smart_open/smart_open_lib.py:398: UserWarning: This function is deprecated, use smart_open.open instead. See the migration notes for details: https://github.com/RaRe-Technologies/smart_open/blob/master/README.rst#migrating-to-the-new-open-function\n",
      "  'See the migration notes for details: %s' % _MIGRATION_NOTES_URL\n"
     ]
    }
   ],
   "source": [
    "model16_moretweets = w2v(data_more_tweet_df['tokens'], 20, 2, 200, 15, 1, 'model16_moretweets.bin')"
   ]
  },
  {
   "cell_type": "code",
   "execution_count": 309,
   "metadata": {},
   "outputs": [
    {
     "name": "stderr",
     "output_type": "stream",
     "text": [
      "/Users/anishphilljoe/anaconda3/lib/python3.6/site-packages/smart_open/smart_open_lib.py:398: UserWarning: This function is deprecated, use smart_open.open instead. See the migration notes for details: https://github.com/RaRe-Technologies/smart_open/blob/master/README.rst#migrating-to-the-new-open-function\n",
      "  'See the migration notes for details: %s' % _MIGRATION_NOTES_URL\n"
     ]
    }
   ],
   "source": [
    "check_we_accuracy(model16_moretweets,'model16_moretweets.bin')"
   ]
  },
  {
   "cell_type": "markdown",
   "metadata": {},
   "source": [
    "##### Accuracy of the models\n",
    "Model15 provide a better accuracy in the similar word test and is much closer to the Google news trained corpus than any other word2vec model"
   ]
  },
  {
   "cell_type": "code",
   "execution_count": 43,
   "metadata": {},
   "outputs": [
    {
     "name": "stderr",
     "output_type": "stream",
     "text": [
      "/Users/anishphilljoe/anaconda3/lib/python3.6/site-packages/smart_open/smart_open_lib.py:398: UserWarning: This function is deprecated, use smart_open.open instead. See the migration notes for details: https://github.com/RaRe-Technologies/smart_open/blob/master/README.rst#migrating-to-the-new-open-function\n",
      "  'See the migration notes for details: %s' % _MIGRATION_NOTES_URL\n"
     ]
    }
   ],
   "source": [
    "#Model_LIST = ['model1.bin','model2.bin','model3.bin','model4.bin','model5.bin','model6.bin','model7.bin','model8.bin',\n",
    "              #'model9.bin','model10.bin','mdel11.bin','model12.bin','model13.bin','model14.bin','model_gn.bin',\n",
    "              #'model15_imdb.bin','model16_moretweets.bin']\n",
    "\n",
    "model1 = Word2Vec.load('model1.bin')\n",
    "model2 = Word2Vec.load('model2.bin')\n",
    "model3 = Word2Vec.load('model3.bin')\n",
    "model4 = Word2Vec.load('model4.bin')\n",
    "model5 = Word2Vec.load('model5.bin')\n",
    "model6 = Word2Vec.load('model6.bin')\n",
    "model7 = Word2Vec.load('model7.bin')\n",
    "model8 = Word2Vec.load('model8.bin')\n",
    "model9 = Word2Vec.load('model9.bin')\n",
    "model10 = Word2Vec.load('model10.bin')\n",
    "model11 = Word2Vec.load('model11.bin')\n",
    "model12 = Word2Vec.load('model12.bin')\n",
    "model13 = Word2Vec.load('model13.bin')\n",
    "model14 = Word2Vec.load('model14.bin')\n",
    "model15_imdb = Word2Vec.load('model15.bin')\n",
    "model16_moretweets = Word2Vec.load('model16_moretweets.bin')"
   ]
  },
  {
   "cell_type": "code",
   "execution_count": 310,
   "metadata": {},
   "outputs": [
    {
     "data": {
      "text/html": [
       "<div>\n",
       "<style scoped>\n",
       "    .dataframe tbody tr th:only-of-type {\n",
       "        vertical-align: middle;\n",
       "    }\n",
       "\n",
       "    .dataframe tbody tr th {\n",
       "        vertical-align: top;\n",
       "    }\n",
       "\n",
       "    .dataframe thead th {\n",
       "        text-align: right;\n",
       "    }\n",
       "</style>\n",
       "<table border=\"1\" class=\"dataframe\">\n",
       "  <thead>\n",
       "    <tr style=\"text-align: right;\">\n",
       "      <th></th>\n",
       "      <th>category</th>\n",
       "      <th>model1.bin</th>\n",
       "      <th>model2.bin</th>\n",
       "      <th>model3.bin</th>\n",
       "      <th>model4.bin</th>\n",
       "      <th>model5.bin</th>\n",
       "      <th>model6.bin</th>\n",
       "      <th>model7.bin</th>\n",
       "      <th>model8.bin</th>\n",
       "      <th>model9.bin</th>\n",
       "      <th>model10.bin</th>\n",
       "      <th>model11.bin</th>\n",
       "      <th>model12.bin</th>\n",
       "      <th>model13.bin</th>\n",
       "      <th>model14.bin</th>\n",
       "      <th>model_gn.bin</th>\n",
       "      <th>model15_imdb.bin</th>\n",
       "      <th>model16_moretweets.bin</th>\n",
       "    </tr>\n",
       "  </thead>\n",
       "  <tbody>\n",
       "    <tr>\n",
       "      <th>0</th>\n",
       "      <td>capital-common-countries</td>\n",
       "      <td>31.05</td>\n",
       "      <td>38.16</td>\n",
       "      <td>37.37</td>\n",
       "      <td>33.95</td>\n",
       "      <td>38.16</td>\n",
       "      <td>26.32</td>\n",
       "      <td>50.00</td>\n",
       "      <td>53.95</td>\n",
       "      <td>55.53</td>\n",
       "      <td>60.00</td>\n",
       "      <td>52.89</td>\n",
       "      <td>50.00</td>\n",
       "      <td>58.68</td>\n",
       "      <td>54.74</td>\n",
       "      <td>83.60</td>\n",
       "      <td>63.42</td>\n",
       "      <td>73.57</td>\n",
       "    </tr>\n",
       "    <tr>\n",
       "      <th>1</th>\n",
       "      <td>capital-world</td>\n",
       "      <td>23.41</td>\n",
       "      <td>28.21</td>\n",
       "      <td>29.65</td>\n",
       "      <td>30.13</td>\n",
       "      <td>33.85</td>\n",
       "      <td>19.93</td>\n",
       "      <td>42.98</td>\n",
       "      <td>45.50</td>\n",
       "      <td>47.18</td>\n",
       "      <td>49.34</td>\n",
       "      <td>47.54</td>\n",
       "      <td>38.06</td>\n",
       "      <td>48.50</td>\n",
       "      <td>46.22</td>\n",
       "      <td>82.72</td>\n",
       "      <td>53.30</td>\n",
       "      <td>53.58</td>\n",
       "    </tr>\n",
       "    <tr>\n",
       "      <th>2</th>\n",
       "      <td>currency</td>\n",
       "      <td>1.16</td>\n",
       "      <td>2.33</td>\n",
       "      <td>2.33</td>\n",
       "      <td>2.33</td>\n",
       "      <td>3.49</td>\n",
       "      <td>0.00</td>\n",
       "      <td>0.00</td>\n",
       "      <td>0.00</td>\n",
       "      <td>0.00</td>\n",
       "      <td>1.16</td>\n",
       "      <td>0.00</td>\n",
       "      <td>3.49</td>\n",
       "      <td>0.00</td>\n",
       "      <td>0.00</td>\n",
       "      <td>39.84</td>\n",
       "      <td>0.00</td>\n",
       "      <td>0.00</td>\n",
       "    </tr>\n",
       "    <tr>\n",
       "      <th>3</th>\n",
       "      <td>city-in-state</td>\n",
       "      <td>10.58</td>\n",
       "      <td>12.72</td>\n",
       "      <td>23.67</td>\n",
       "      <td>30.09</td>\n",
       "      <td>25.81</td>\n",
       "      <td>14.25</td>\n",
       "      <td>33.94</td>\n",
       "      <td>26.54</td>\n",
       "      <td>31.99</td>\n",
       "      <td>32.72</td>\n",
       "      <td>37.00</td>\n",
       "      <td>24.53</td>\n",
       "      <td>32.84</td>\n",
       "      <td>34.80</td>\n",
       "      <td>74.64</td>\n",
       "      <td>35.79</td>\n",
       "      <td>33.47</td>\n",
       "    </tr>\n",
       "    <tr>\n",
       "      <th>4</th>\n",
       "      <td>family</td>\n",
       "      <td>66.01</td>\n",
       "      <td>68.95</td>\n",
       "      <td>69.28</td>\n",
       "      <td>69.93</td>\n",
       "      <td>73.20</td>\n",
       "      <td>58.50</td>\n",
       "      <td>37.25</td>\n",
       "      <td>41.18</td>\n",
       "      <td>42.48</td>\n",
       "      <td>41.83</td>\n",
       "      <td>52.61</td>\n",
       "      <td>28.76</td>\n",
       "      <td>41.83</td>\n",
       "      <td>41.18</td>\n",
       "      <td>90.06</td>\n",
       "      <td>47.66</td>\n",
       "      <td>54.97</td>\n",
       "    </tr>\n",
       "    <tr>\n",
       "      <th>5</th>\n",
       "      <td>gram1-adjective-to-adverb</td>\n",
       "      <td>7.14</td>\n",
       "      <td>10.22</td>\n",
       "      <td>9.48</td>\n",
       "      <td>7.14</td>\n",
       "      <td>6.40</td>\n",
       "      <td>5.67</td>\n",
       "      <td>6.65</td>\n",
       "      <td>5.17</td>\n",
       "      <td>4.19</td>\n",
       "      <td>7.02</td>\n",
       "      <td>4.06</td>\n",
       "      <td>4.68</td>\n",
       "      <td>5.17</td>\n",
       "      <td>6.16</td>\n",
       "      <td>32.27</td>\n",
       "      <td>8.37</td>\n",
       "      <td>8.25</td>\n",
       "    </tr>\n",
       "    <tr>\n",
       "      <th>6</th>\n",
       "      <td>gram2-opposite</td>\n",
       "      <td>17.00</td>\n",
       "      <td>20.83</td>\n",
       "      <td>16.67</td>\n",
       "      <td>15.33</td>\n",
       "      <td>16.17</td>\n",
       "      <td>14.17</td>\n",
       "      <td>11.00</td>\n",
       "      <td>11.83</td>\n",
       "      <td>7.67</td>\n",
       "      <td>10.83</td>\n",
       "      <td>7.17</td>\n",
       "      <td>8.00</td>\n",
       "      <td>7.33</td>\n",
       "      <td>7.17</td>\n",
       "      <td>50.53</td>\n",
       "      <td>9.40</td>\n",
       "      <td>10.26</td>\n",
       "    </tr>\n",
       "    <tr>\n",
       "      <th>7</th>\n",
       "      <td>gram3-comparative</td>\n",
       "      <td>55.32</td>\n",
       "      <td>57.38</td>\n",
       "      <td>39.76</td>\n",
       "      <td>44.21</td>\n",
       "      <td>47.14</td>\n",
       "      <td>40.40</td>\n",
       "      <td>27.78</td>\n",
       "      <td>24.13</td>\n",
       "      <td>19.84</td>\n",
       "      <td>20.16</td>\n",
       "      <td>20.95</td>\n",
       "      <td>24.05</td>\n",
       "      <td>18.41</td>\n",
       "      <td>19.37</td>\n",
       "      <td>91.89</td>\n",
       "      <td>27.78</td>\n",
       "      <td>33.73</td>\n",
       "    </tr>\n",
       "    <tr>\n",
       "      <th>8</th>\n",
       "      <td>gram4-superlative</td>\n",
       "      <td>32.07</td>\n",
       "      <td>38.39</td>\n",
       "      <td>28.85</td>\n",
       "      <td>28.74</td>\n",
       "      <td>22.07</td>\n",
       "      <td>20.23</td>\n",
       "      <td>12.18</td>\n",
       "      <td>10.57</td>\n",
       "      <td>9.89</td>\n",
       "      <td>7.36</td>\n",
       "      <td>7.59</td>\n",
       "      <td>9.77</td>\n",
       "      <td>7.24</td>\n",
       "      <td>8.28</td>\n",
       "      <td>88.03</td>\n",
       "      <td>15.15</td>\n",
       "      <td>13.23</td>\n",
       "    </tr>\n",
       "    <tr>\n",
       "      <th>9</th>\n",
       "      <td>gram5-present-participle</td>\n",
       "      <td>54.30</td>\n",
       "      <td>54.73</td>\n",
       "      <td>54.95</td>\n",
       "      <td>53.33</td>\n",
       "      <td>50.54</td>\n",
       "      <td>47.53</td>\n",
       "      <td>42.80</td>\n",
       "      <td>39.14</td>\n",
       "      <td>40.32</td>\n",
       "      <td>42.04</td>\n",
       "      <td>37.20</td>\n",
       "      <td>34.19</td>\n",
       "      <td>37.31</td>\n",
       "      <td>39.46</td>\n",
       "      <td>79.77</td>\n",
       "      <td>40.83</td>\n",
       "      <td>48.49</td>\n",
       "    </tr>\n",
       "    <tr>\n",
       "      <th>10</th>\n",
       "      <td>gram6-nationality-adjective</td>\n",
       "      <td>49.58</td>\n",
       "      <td>53.12</td>\n",
       "      <td>66.05</td>\n",
       "      <td>65.20</td>\n",
       "      <td>64.36</td>\n",
       "      <td>51.89</td>\n",
       "      <td>66.51</td>\n",
       "      <td>72.98</td>\n",
       "      <td>74.36</td>\n",
       "      <td>74.13</td>\n",
       "      <td>76.44</td>\n",
       "      <td>66.13</td>\n",
       "      <td>76.14</td>\n",
       "      <td>73.75</td>\n",
       "      <td>97.07</td>\n",
       "      <td>74.18</td>\n",
       "      <td>73.38</td>\n",
       "    </tr>\n",
       "    <tr>\n",
       "      <th>11</th>\n",
       "      <td>gram7-past-tense</td>\n",
       "      <td>38.26</td>\n",
       "      <td>37.48</td>\n",
       "      <td>35.70</td>\n",
       "      <td>32.93</td>\n",
       "      <td>36.42</td>\n",
       "      <td>29.30</td>\n",
       "      <td>26.60</td>\n",
       "      <td>26.67</td>\n",
       "      <td>25.11</td>\n",
       "      <td>22.19</td>\n",
       "      <td>22.19</td>\n",
       "      <td>25.18</td>\n",
       "      <td>21.69</td>\n",
       "      <td>22.90</td>\n",
       "      <td>66.53</td>\n",
       "      <td>30.16</td>\n",
       "      <td>30.03</td>\n",
       "    </tr>\n",
       "    <tr>\n",
       "      <th>12</th>\n",
       "      <td>gram8-plural</td>\n",
       "      <td>20.77</td>\n",
       "      <td>24.77</td>\n",
       "      <td>19.54</td>\n",
       "      <td>20.31</td>\n",
       "      <td>21.23</td>\n",
       "      <td>17.08</td>\n",
       "      <td>10.92</td>\n",
       "      <td>14.00</td>\n",
       "      <td>12.77</td>\n",
       "      <td>13.38</td>\n",
       "      <td>11.54</td>\n",
       "      <td>14.15</td>\n",
       "      <td>15.85</td>\n",
       "      <td>12.15</td>\n",
       "      <td>85.58</td>\n",
       "      <td>15.02</td>\n",
       "      <td>18.33</td>\n",
       "    </tr>\n",
       "    <tr>\n",
       "      <th>13</th>\n",
       "      <td>gram9-plural-verbs</td>\n",
       "      <td>18.75</td>\n",
       "      <td>18.01</td>\n",
       "      <td>13.24</td>\n",
       "      <td>14.34</td>\n",
       "      <td>15.44</td>\n",
       "      <td>6.99</td>\n",
       "      <td>4.78</td>\n",
       "      <td>6.25</td>\n",
       "      <td>3.31</td>\n",
       "      <td>4.78</td>\n",
       "      <td>4.04</td>\n",
       "      <td>8.09</td>\n",
       "      <td>5.15</td>\n",
       "      <td>7.35</td>\n",
       "      <td>68.95</td>\n",
       "      <td>13.40</td>\n",
       "      <td>11.44</td>\n",
       "    </tr>\n",
       "  </tbody>\n",
       "</table>\n",
       "</div>"
      ],
      "text/plain": [
       "                       category  model1.bin  model2.bin  model3.bin  \\\n",
       "0      capital-common-countries       31.05       38.16       37.37   \n",
       "1                 capital-world       23.41       28.21       29.65   \n",
       "2                      currency        1.16        2.33        2.33   \n",
       "3                 city-in-state       10.58       12.72       23.67   \n",
       "4                        family       66.01       68.95       69.28   \n",
       "5     gram1-adjective-to-adverb        7.14       10.22        9.48   \n",
       "6                gram2-opposite       17.00       20.83       16.67   \n",
       "7             gram3-comparative       55.32       57.38       39.76   \n",
       "8             gram4-superlative       32.07       38.39       28.85   \n",
       "9      gram5-present-participle       54.30       54.73       54.95   \n",
       "10  gram6-nationality-adjective       49.58       53.12       66.05   \n",
       "11             gram7-past-tense       38.26       37.48       35.70   \n",
       "12                 gram8-plural       20.77       24.77       19.54   \n",
       "13           gram9-plural-verbs       18.75       18.01       13.24   \n",
       "\n",
       "    model4.bin  model5.bin  model6.bin  model7.bin  model8.bin  model9.bin  \\\n",
       "0        33.95       38.16       26.32       50.00       53.95       55.53   \n",
       "1        30.13       33.85       19.93       42.98       45.50       47.18   \n",
       "2         2.33        3.49        0.00        0.00        0.00        0.00   \n",
       "3        30.09       25.81       14.25       33.94       26.54       31.99   \n",
       "4        69.93       73.20       58.50       37.25       41.18       42.48   \n",
       "5         7.14        6.40        5.67        6.65        5.17        4.19   \n",
       "6        15.33       16.17       14.17       11.00       11.83        7.67   \n",
       "7        44.21       47.14       40.40       27.78       24.13       19.84   \n",
       "8        28.74       22.07       20.23       12.18       10.57        9.89   \n",
       "9        53.33       50.54       47.53       42.80       39.14       40.32   \n",
       "10       65.20       64.36       51.89       66.51       72.98       74.36   \n",
       "11       32.93       36.42       29.30       26.60       26.67       25.11   \n",
       "12       20.31       21.23       17.08       10.92       14.00       12.77   \n",
       "13       14.34       15.44        6.99        4.78        6.25        3.31   \n",
       "\n",
       "    model10.bin  model11.bin  model12.bin  model13.bin  model14.bin  \\\n",
       "0         60.00        52.89        50.00        58.68        54.74   \n",
       "1         49.34        47.54        38.06        48.50        46.22   \n",
       "2          1.16         0.00         3.49         0.00         0.00   \n",
       "3         32.72        37.00        24.53        32.84        34.80   \n",
       "4         41.83        52.61        28.76        41.83        41.18   \n",
       "5          7.02         4.06         4.68         5.17         6.16   \n",
       "6         10.83         7.17         8.00         7.33         7.17   \n",
       "7         20.16        20.95        24.05        18.41        19.37   \n",
       "8          7.36         7.59         9.77         7.24         8.28   \n",
       "9         42.04        37.20        34.19        37.31        39.46   \n",
       "10        74.13        76.44        66.13        76.14        73.75   \n",
       "11        22.19        22.19        25.18        21.69        22.90   \n",
       "12        13.38        11.54        14.15        15.85        12.15   \n",
       "13         4.78         4.04         8.09         5.15         7.35   \n",
       "\n",
       "    model_gn.bin  model15_imdb.bin  model16_moretweets.bin  \n",
       "0          83.60             63.42                   73.57  \n",
       "1          82.72             53.30                   53.58  \n",
       "2          39.84              0.00                    0.00  \n",
       "3          74.64             35.79                   33.47  \n",
       "4          90.06             47.66                   54.97  \n",
       "5          32.27              8.37                    8.25  \n",
       "6          50.53              9.40                   10.26  \n",
       "7          91.89             27.78                   33.73  \n",
       "8          88.03             15.15                   13.23  \n",
       "9          79.77             40.83                   48.49  \n",
       "10         97.07             74.18                   73.38  \n",
       "11         66.53             30.16                   30.03  \n",
       "12         85.58             15.02                   18.33  \n",
       "13         68.95             13.40                   11.44  "
      ]
     },
     "execution_count": 310,
     "metadata": {},
     "output_type": "execute_result"
    }
   ],
   "source": [
    "model_accuracy_df"
   ]
  },
  {
   "cell_type": "markdown",
   "metadata": {},
   "source": [
    "# 4. Prepare data for embedding Layer"
   ]
  },
  {
   "cell_type": "markdown",
   "metadata": {},
   "source": [
    "### 4.1  Word2Vec Model 16 with ~500,000 Additional Random Tweet used for Word Embedding model"
   ]
  },
  {
   "cell_type": "code",
   "execution_count": 44,
   "metadata": {},
   "outputs": [],
   "source": [
    "vocab = model16_moretweets.wv.index2entity\n",
    "index_to_word = dict()\n",
    "i = 1\n",
    "for word in vocab:\n",
    "    index_to_word[i] = word\n",
    "    i = i + 1\n",
    "word_to_index = {w:v for v,w in index_to_word.items()}"
   ]
  },
  {
   "cell_type": "code",
   "execution_count": 45,
   "metadata": {},
   "outputs": [],
   "source": [
    "def int_token(data, max_len, word_to_index):\n",
    "    tokens = np.array(data['tokens'])\n",
    "    sent_len = np.array(data['length'])\n",
    "    tokens_trunc = [sent[:max_len] for sent in tokens]\n",
    "\n",
    "    int_token = []\n",
    "    count = 0\n",
    "    for tokens_trunc_ITEM in tokens_trunc:\n",
    "        int_sent = []\n",
    "        for word in tokens_trunc_ITEM:\n",
    "            try: \n",
    "                int_sent.append(word_to_index[word])\n",
    "            except:\n",
    "                int_sent.append(0)\n",
    "        int_token.append(int_sent)\n",
    "        count = count + 1\n",
    "    return int_token"
   ]
  },
  {
   "cell_type": "markdown",
   "metadata": {},
   "source": [
    "##### Max words per comment = 100"
   ]
  },
  {
   "cell_type": "code",
   "execution_count": 46,
   "metadata": {},
   "outputs": [],
   "source": [
    "data_more_tweet_df['int_token']=int_token(data_more_tweet_df, 100, word_to_index)"
   ]
  },
  {
   "cell_type": "code",
   "execution_count": 47,
   "metadata": {},
   "outputs": [
    {
     "name": "stdout",
     "output_type": "stream",
     "text": [
      "264640 words embedded for training\n"
     ]
    }
   ],
   "source": [
    "embedding_matrix=[]\n",
    "for w,v in word_to_index.items():\n",
    "    embedding_matrix.append(model16_moretweets.wv[w])\n",
    "print(str(len(embedding_matrix))+' words embedded for training')\n",
    "maxlen = 100\n",
    "embedding_matrix = np.array(embedding_matrix)"
   ]
  },
  {
   "cell_type": "code",
   "execution_count": 48,
   "metadata": {},
   "outputs": [],
   "source": [
    "X_train_pad = pad_sequences(np.array(data_more_tweet_df[data_more_tweet_df['type']=='Train']['int_token']), \n",
    "                            maxlen=maxlen)\n",
    "X_test_pad = pad_sequences(np.array(data_more_tweet_df[data_more_tweet_df['type']=='Test']['int_token']), \n",
    "                            maxlen=maxlen)\n",
    "list_classes = [\"toxic\", \"severe_toxic\", \"obscene\", \"threat\", \"insult\", \"identity_hate\"]\n",
    "y = data_more_tweet_df[data_more_tweet_df['type']=='Train'][list_classes]\n",
    "y = np.array(round(y,0))"
   ]
  },
  {
   "cell_type": "markdown",
   "metadata": {},
   "source": [
    "##### CNN Model with multiple 1D conv layer and shallow dense layer"
   ]
  },
  {
   "cell_type": "code",
   "execution_count": 52,
   "metadata": {
    "scrolled": false
   },
   "outputs": [
    {
     "name": "stdout",
     "output_type": "stream",
     "text": [
      "_________________________________________________________________\n",
      "Layer (type)                 Output Shape              Param #   \n",
      "=================================================================\n",
      "input_3 (InputLayer)         (None, 100)               0         \n",
      "_________________________________________________________________\n",
      "embedding_3 (Embedding)      (None, 100, 200)          52928000  \n",
      "_________________________________________________________________\n",
      "conv1d_7 (Conv1D)            (None, 96, 128)           128128    \n",
      "_________________________________________________________________\n",
      "max_pooling1d_7 (MaxPooling1 (None, 48, 128)           0         \n",
      "_________________________________________________________________\n",
      "conv1d_8 (Conv1D)            (None, 42, 512)           459264    \n",
      "_________________________________________________________________\n",
      "max_pooling1d_8 (MaxPooling1 (None, 21, 512)           0         \n",
      "_________________________________________________________________\n",
      "conv1d_9 (Conv1D)            (None, 19, 256)           393472    \n",
      "_________________________________________________________________\n",
      "max_pooling1d_9 (MaxPooling1 (None, 9, 256)            0         \n",
      "_________________________________________________________________\n",
      "dropout_5 (Dropout)          (None, 9, 256)            0         \n",
      "_________________________________________________________________\n",
      "flatten_2 (Flatten)          (None, 2304)              0         \n",
      "_________________________________________________________________\n",
      "dense_4 (Dense)              (None, 128)               295040    \n",
      "_________________________________________________________________\n",
      "dropout_6 (Dropout)          (None, 128)               0         \n",
      "_________________________________________________________________\n",
      "dense_5 (Dense)              (None, 64)                8256      \n",
      "_________________________________________________________________\n",
      "dropout_7 (Dropout)          (None, 64)                0         \n",
      "_________________________________________________________________\n",
      "dense_6 (Dense)              (None, 6)                 390       \n",
      "=================================================================\n",
      "Total params: 54,212,550\n",
      "Trainable params: 1,284,550\n",
      "Non-trainable params: 52,928,000\n",
      "_________________________________________________________________\n"
     ]
    }
   ],
   "source": [
    "inp4 = Input(shape=(maxlen, ))\n",
    "x4 = Embedding(len(word_to_index), len(embedding_matrix[0]),weights=[embedding_matrix],trainable=False)(inp4)\n",
    "x4 = Conv1D(128, 5, activation='relu')(x4)\n",
    "x4 = MaxPooling1D()(x4)\n",
    "x4 = Conv1D(512, 7, activation='relu')(x4)\n",
    "x4 = MaxPooling1D()(x4)\n",
    "x4 = Conv1D(256, 3, activation='relu')(x4)\n",
    "x4 = MaxPooling1D()(x4)\n",
    "x4 = Dropout(0.1)(x4)\n",
    "x4 = Flatten()(x4)\n",
    "x4 = Dense(128, activation=\"relu\")(x4)\n",
    "x4 = Dropout(0.1)(x4)\n",
    "x4 = Dense(64, activation=\"relu\")(x4)\n",
    "x4 = Dropout(0.1)(x4)\n",
    "x4 = Dense(6, activation=\"sigmoid\")(x4)\n",
    "model4 = Model(inputs=inp4, outputs=x4)\n",
    "model4.compile(loss='binary_crossentropy',\n",
    "                  optimizer='adam',\n",
    "                  metrics=['accuracy'])\n",
    "model4.summary()"
   ]
  },
  {
   "cell_type": "code",
   "execution_count": 53,
   "metadata": {},
   "outputs": [
    {
     "name": "stdout",
     "output_type": "stream",
     "text": [
      "Train on 143578 samples, validate on 15954 samples\n",
      "Epoch 1/3\n",
      "143578/143578 [==============================] - 682s 5ms/step - loss: 0.1255 - acc: 0.9661 - val_loss: 0.1122 - val_acc: 0.9686\n",
      "Epoch 2/3\n",
      "143578/143578 [==============================] - 668s 5ms/step - loss: 0.1023 - acc: 0.9706 - val_loss: 0.1008 - val_acc: 0.9704\n",
      "Epoch 3/3\n",
      "143578/143578 [==============================] - 648s 5ms/step - loss: 0.0940 - acc: 0.9721 - val_loss: 0.0998 - val_acc: 0.9701\n"
     ]
    }
   ],
   "source": [
    "batch_size = 32\n",
    "epochs = 3\n",
    "hist4 = model4.fit(X_train_pad,y, batch_size=batch_size, epochs=epochs, validation_split=0.1)"
   ]
  },
  {
   "cell_type": "code",
   "execution_count": 54,
   "metadata": {},
   "outputs": [],
   "source": [
    "y_pred4 = model4.predict(X_test_pad)"
   ]
  },
  {
   "cell_type": "code",
   "execution_count": 57,
   "metadata": {},
   "outputs": [],
   "source": [
    "test_data = data_more_tweet_df[data_more_tweet_df['type']=='Test'].drop(['Unnamed: 0', 'Id'], axis=1)\n",
    "test_data = test_data.reset_index(drop=True).drop(['toxic','severe_toxic','obscene','threat','insult','identity_hate'], axis=1)\n",
    "test_pred_df = pd.DataFrame(data=np.round(y_pred4,0), columns=['toxic_pred','severe_toxic_pred','obscene_pred','threat_pred','insult_pred','identity_hate_pred'])\n",
    "test_df = pd.concat([test_data,test_pred_df], axis=1, sort=False)\n",
    "test_label_df = pd.read_csv('test_labels.csv')\n",
    "test_result = pd.merge(test_label_df, test_df, how='inner', on = 'id')"
   ]
  },
  {
   "cell_type": "code",
   "execution_count": 58,
   "metadata": {},
   "outputs": [
    {
     "name": "stdout",
     "output_type": "stream",
     "text": [
      "toxic\n",
      "\n",
      "N = 3406\n",
      "Precission = 53.35%\n",
      "Accuracy = 90.83%\n",
      "Recall = 29.85%\n",
      "\n",
      "\n",
      "severe_toxic\n",
      "\n",
      "N = 42\n",
      "Precission = 50.0%\n",
      "Accuracy = 99.43%\n",
      "Recall = 5.72%\n",
      "\n",
      "\n",
      "obscene\n",
      "\n",
      "N = 2202\n",
      "Precission = 56.77%\n",
      "Accuracy = 94.69%\n",
      "Recall = 33.88%\n",
      "\n",
      "\n",
      "threat\n",
      "\n",
      "N = 0\n",
      "No records for the following category threat_pred\n",
      "\n",
      "\n",
      "insult\n",
      "\n",
      "N = 1985\n",
      "Precission = 52.8%\n",
      "Accuracy = 94.81%\n",
      "Recall = 30.6%\n",
      "\n",
      "\n",
      "identity_hate\n",
      "\n",
      "N = 0\n",
      "No records for the following category identity_hate_pred\n",
      "\n",
      "\n"
     ]
    }
   ],
   "source": [
    "data = test_result[test_result['toxic']!=-1]\n",
    "field_LIST = [['toxic_pred','toxic'],\n",
    "['severe_toxic_pred','severe_toxic'],\n",
    "['obscene_pred','obscene'],\n",
    "['threat_pred','threat'],\n",
    "['insult_pred','insult'],\n",
    "['identity_hate_pred','identity_hate']]\n",
    "\n",
    "for field_LIST_ITEM in field_LIST:\n",
    "    print(field_LIST_ITEM[1]+'\\n')\n",
    "    try:\n",
    "        print('N = '+str(len(data[(data[field_LIST_ITEM[0]]==1)])))\n",
    "        TP = len(data[(data[field_LIST_ITEM[0]]==1) & (data[field_LIST_ITEM[1]]==1)])\n",
    "        FP = len(data[(data[field_LIST_ITEM[0]]==1) & (data[field_LIST_ITEM[1]]==0)])\n",
    "        TN = len(data[(data[field_LIST_ITEM[0]]==0) & (data[field_LIST_ITEM[1]]==0)])\n",
    "        FN = len(data[(data[field_LIST_ITEM[0]]==0) & (data[field_LIST_ITEM[1]]==1)])\n",
    "        P = TP/(TP+FP)\n",
    "        A = (TP+TN)/(TP+TN+FP+FN)\n",
    "        R = TP/(TP+FN)\n",
    "        print('Precission = '+str(round(P*100,2))+'%')\n",
    "        print('Accuracy = '+str(round(A*100,2))+'%')\n",
    "        print('Recall = '+str(round(R*100,2))+'%\\n\\n')\n",
    "    except:\n",
    "        print('No records for the following category '+field_LIST_ITEM[0]+'\\n\\n')"
   ]
  },
  {
   "cell_type": "markdown",
   "metadata": {},
   "source": [
    "##### Vanila LSTM with 60 hidden Layer"
   ]
  },
  {
   "cell_type": "code",
   "execution_count": 302,
   "metadata": {},
   "outputs": [
    {
     "name": "stdout",
     "output_type": "stream",
     "text": [
      "_________________________________________________________________\n",
      "Layer (type)                 Output Shape              Param #   \n",
      "=================================================================\n",
      "input_26 (InputLayer)        (None, 100)               0         \n",
      "_________________________________________________________________\n",
      "embedding_23 (Embedding)     (None, 100, 200)          52928000  \n",
      "_________________________________________________________________\n",
      "lstm_layer (LSTM)            (None, 100, 60)           62640     \n",
      "_________________________________________________________________\n",
      "flatten_2 (Flatten)          (None, 6000)              0         \n",
      "_________________________________________________________________\n",
      "dense_27 (Dense)             (None, 6)                 36006     \n",
      "=================================================================\n",
      "Total params: 53,026,646\n",
      "Trainable params: 98,646\n",
      "Non-trainable params: 52,928,000\n",
      "_________________________________________________________________\n"
     ]
    }
   ],
   "source": [
    "inp1 = Input(shape=(maxlen, ))\n",
    "x1 = Embedding(len(word_to_index), len(embedding_matrix[0]),weights=[embedding_matrix],trainable=False)(inp1)\n",
    "x1 = LSTM(60, return_sequences=True,name='lstm_layer')(x1)\n",
    "#x1 = TimeDistributed(Dense(6))(x1)\n",
    "x1 = Flatten()(x1)\n",
    "x1 = Dense(6, activation=\"sigmoid\")(x1)\n",
    "model1 = Model(inputs=inp1, outputs=x1)\n",
    "model1.compile(loss='binary_crossentropy',\n",
    "                  optimizer='adam',\n",
    "                  metrics=['accuracy'])\n",
    "model1.summary()"
   ]
  },
  {
   "cell_type": "code",
   "execution_count": 298,
   "metadata": {},
   "outputs": [
    {
     "data": {
      "text/plain": [
       "(159532, 6)"
      ]
     },
     "execution_count": 298,
     "metadata": {},
     "output_type": "execute_result"
    }
   ],
   "source": [
    "z = y.reshape(159532, 6, 1)\n",
    "y.shape"
   ]
  },
  {
   "cell_type": "code",
   "execution_count": 303,
   "metadata": {},
   "outputs": [
    {
     "name": "stdout",
     "output_type": "stream",
     "text": [
      "Train on 143578 samples, validate on 15954 samples\n",
      "Epoch 1/3\n",
      "143578/143578 [==============================] - 505s 4ms/step - loss: 0.0964 - acc: 0.9719 - val_loss: 0.0765 - val_acc: 0.9756\n",
      "Epoch 2/3\n",
      "143578/143578 [==============================] - 471s 3ms/step - loss: 0.0660 - acc: 0.9787 - val_loss: 0.0662 - val_acc: 0.9782\n",
      "Epoch 3/3\n",
      "143578/143578 [==============================] - 465s 3ms/step - loss: 0.0551 - acc: 0.9812 - val_loss: 0.0599 - val_acc: 0.9795\n"
     ]
    }
   ],
   "source": [
    "batch_size = 32\n",
    "epochs = 3\n",
    "hist1 = model1.fit(X_train_pad,y, batch_size=batch_size, epochs=epochs, validation_split=0.1)"
   ]
  },
  {
   "cell_type": "code",
   "execution_count": 304,
   "metadata": {},
   "outputs": [],
   "source": [
    "y_pred1 = model1.predict(X_test_pad)\n",
    "#y_pred = np.round(y_pred,0)"
   ]
  },
  {
   "cell_type": "code",
   "execution_count": 305,
   "metadata": {},
   "outputs": [],
   "source": [
    "test_data = data_more_tweet_df[data_more_tweet_df['type']=='Test'].drop(['Unnamed: 0', 'Id'], axis=1)\n",
    "test_data = test_data.reset_index(drop=True).drop(['toxic','severe_toxic','obscene','threat','insult','identity_hate'], axis=1)\n",
    "test_pred_df = pd.DataFrame(data=np.round(y_pred1,0), columns=['toxic_pred','severe_toxic_pred','obscene_pred','threat_pred','insult_pred','identity_hate_pred'])\n",
    "test_df = pd.concat([test_data,test_pred_df], axis=1, sort=False)\n",
    "test_label_df = pd.read_csv('test_labels.csv')\n",
    "test_result = pd.merge(test_label_df, test_df, how='inner', on = 'id')"
   ]
  },
  {
   "cell_type": "code",
   "execution_count": 306,
   "metadata": {},
   "outputs": [
    {
     "name": "stdout",
     "output_type": "stream",
     "text": [
      "toxic\n",
      "\n",
      "N = 7338\n",
      "Precission = 59.87%\n",
      "Accuracy = 92.74%\n",
      "Recall = 72.16%\n",
      "\n",
      "\n",
      "severe_toxic\n",
      "\n",
      "N = 487\n",
      "Precission = 33.06%\n",
      "Accuracy = 99.17%\n",
      "Recall = 43.87%\n",
      "\n",
      "\n",
      "obscene\n",
      "\n",
      "N = 3930\n",
      "Precission = 64.86%\n",
      "Accuracy = 96.05%\n",
      "Recall = 69.1%\n",
      "\n",
      "\n",
      "threat\n",
      "\n",
      "N = 50\n",
      "Precission = 36.0%\n",
      "Accuracy = 99.65%\n",
      "Recall = 8.53%\n",
      "\n",
      "\n",
      "insult\n",
      "\n",
      "N = 3359\n",
      "Precission = 61.89%\n",
      "Accuracy = 95.89%\n",
      "Recall = 60.7%\n",
      "\n",
      "\n",
      "identity_hate\n",
      "\n",
      "N = 385\n",
      "Precission = 48.05%\n",
      "Accuracy = 98.86%\n",
      "Recall = 25.98%\n",
      "\n",
      "\n"
     ]
    }
   ],
   "source": [
    "data = test_result[test_result['toxic']!=-1]\n",
    "field_LIST = [['toxic_pred','toxic'],\n",
    "['severe_toxic_pred','severe_toxic'],\n",
    "['obscene_pred','obscene'],\n",
    "['threat_pred','threat'],\n",
    "['insult_pred','insult'],\n",
    "['identity_hate_pred','identity_hate']]\n",
    "\n",
    "for field_LIST_ITEM in field_LIST:\n",
    "    print(field_LIST_ITEM[1]+'\\n')\n",
    "    try:\n",
    "        print('N = '+str(len(data[(data[field_LIST_ITEM[0]]==1)])))\n",
    "        TP = len(data[(data[field_LIST_ITEM[0]]==1) & (data[field_LIST_ITEM[1]]==1)])\n",
    "        FP = len(data[(data[field_LIST_ITEM[0]]==1) & (data[field_LIST_ITEM[1]]==0)])\n",
    "        TN = len(data[(data[field_LIST_ITEM[0]]==0) & (data[field_LIST_ITEM[1]]==0)])\n",
    "        FN = len(data[(data[field_LIST_ITEM[0]]==0) & (data[field_LIST_ITEM[1]]==1)])\n",
    "        P = TP/(TP+FP)\n",
    "        A = (TP+TN)/(TP+TN+FP+FN)\n",
    "        R = TP/(TP+FN)\n",
    "        print('Precission = '+str(round(P*100,2))+'%')\n",
    "        print('Accuracy = '+str(round(A*100,2))+'%')\n",
    "        print('Recall = '+str(round(R*100,2))+'%\\n\\n')\n",
    "    except:\n",
    "        print('No records for the following category '+field_LIST_ITEM[0]+'\\n\\n')"
   ]
  },
  {
   "cell_type": "markdown",
   "metadata": {},
   "source": [
    "##### Bidirectional LSTM with Reccurrent dropouts and pooling Layer"
   ]
  },
  {
   "cell_type": "code",
   "execution_count": 79,
   "metadata": {},
   "outputs": [
    {
     "name": "stderr",
     "output_type": "stream",
     "text": [
      "W0803 13:38:28.578186 4425434560 deprecation.py:506] From /Users/anishphilljoe/anaconda3/lib/python3.6/site-packages/keras/backend/tensorflow_backend.py:3445: calling dropout (from tensorflow.python.ops.nn_ops) with keep_prob is deprecated and will be removed in a future version.\n",
      "Instructions for updating:\n",
      "Please use `rate` instead of `keep_prob`. Rate should be set to `rate = 1 - keep_prob`.\n"
     ]
    }
   ],
   "source": [
    "inp = Input(shape=(maxlen, ))\n",
    "x = Embedding(len(word_to_index), len(embedding_matrix[0]),weights=[embedding_matrix],trainable=False)(inp)\n",
    "x = Bidirectional(LSTM(60, return_sequences=True,name='lstm_layer',dropout=0.1,recurrent_dropout=0.1))(x)"
   ]
  },
  {
   "cell_type": "code",
   "execution_count": 80,
   "metadata": {},
   "outputs": [],
   "source": [
    "x = GlobalMaxPool1D()(x)\n",
    "x = Dropout(0.1)(x)\n",
    "x = Dense(50, activation=\"relu\")(x)\n",
    "x = Dropout(0.1)(x)\n",
    "x = Dense(6, activation=\"sigmoid\")(x)"
   ]
  },
  {
   "cell_type": "code",
   "execution_count": 82,
   "metadata": {},
   "outputs": [
    {
     "name": "stdout",
     "output_type": "stream",
     "text": [
      "_________________________________________________________________\n",
      "Layer (type)                 Output Shape              Param #   \n",
      "=================================================================\n",
      "input_6 (InputLayer)         (None, 100)               0         \n",
      "_________________________________________________________________\n",
      "embedding_3 (Embedding)      (None, 100, 200)          52928000  \n",
      "_________________________________________________________________\n",
      "bidirectional_1 (Bidirection (None, 100, 120)          125280    \n",
      "_________________________________________________________________\n",
      "global_max_pooling1d_1 (Glob (None, 120)               0         \n",
      "_________________________________________________________________\n",
      "dropout_1 (Dropout)          (None, 120)               0         \n",
      "_________________________________________________________________\n",
      "dense_1 (Dense)              (None, 50)                6050      \n",
      "_________________________________________________________________\n",
      "dropout_2 (Dropout)          (None, 50)                0         \n",
      "_________________________________________________________________\n",
      "dense_2 (Dense)              (None, 6)                 306       \n",
      "=================================================================\n",
      "Total params: 53,059,636\n",
      "Trainable params: 131,636\n",
      "Non-trainable params: 52,928,000\n",
      "_________________________________________________________________\n"
     ]
    }
   ],
   "source": [
    "model = Model(inputs=inp, outputs=x)\n",
    "model.compile(loss='binary_crossentropy',\n",
    "                  optimizer='adam',\n",
    "                  metrics=['accuracy'])\n",
    "model.summary()"
   ]
  },
  {
   "cell_type": "code",
   "execution_count": null,
   "metadata": {},
   "outputs": [],
   "source": [
    "batch_size = 32\n",
    "epochs = 3\n",
    "hist = model.fit(X_train_pad,y, batch_size=batch_size, epochs=epochs, validation_split=0.1)"
   ]
  },
  {
   "cell_type": "code",
   "execution_count": 126,
   "metadata": {},
   "outputs": [],
   "source": [
    "y_pred = model.predict(X_test_pad)\n",
    "#y_pred = np.round(y_pred,0)"
   ]
  },
  {
   "cell_type": "code",
   "execution_count": 247,
   "metadata": {},
   "outputs": [],
   "source": [
    "test_data = data_more_tweet_df[data_more_tweet_df['type']=='Test'].drop(['Unnamed: 0', 'Id'], axis=1)\n",
    "test_data = test_data.reset_index(drop=True).drop(['toxic','severe_toxic','obscene','threat','insult','identity_hate'], axis=1)\n",
    "test_pred_df = pd.DataFrame(data=np.round(y_pred,0), columns=['toxic_pred','severe_toxic_pred','obscene_pred','threat_pred','insult_pred','identity_hate_pred'])\n",
    "test_df = pd.concat([test_data,test_pred_df], axis=1, sort=False)\n",
    "test_label_df = pd.read_csv('test_labels.csv')\n",
    "test_result = pd.merge(test_label_df, test_df, how='inner', on = 'id')\n"
   ]
  },
  {
   "cell_type": "code",
   "execution_count": 257,
   "metadata": {},
   "outputs": [
    {
     "name": "stdout",
     "output_type": "stream",
     "text": [
      "toxic\n",
      "\n",
      "N = 7523\n",
      "Precission = 59.94%\n",
      "Accuracy = 92.81%\n",
      "Recall = 74.06%\n",
      "\n",
      "\n",
      "severe_toxic\n",
      "\n",
      "N = 258\n",
      "Precission = 41.09%\n",
      "Accuracy = 99.35%\n",
      "Recall = 28.88%\n",
      "\n",
      "\n",
      "obscene\n",
      "\n",
      "N = 3794\n",
      "Precission = 66.63%\n",
      "Accuracy = 96.2%\n",
      "Recall = 68.53%\n",
      "\n",
      "\n",
      "threat\n",
      "\n",
      "N = 0\n",
      "No records for the following category threat_pred\n",
      "\n",
      "\n",
      "insult\n",
      "\n",
      "N = 3172\n",
      "Precission = 64.0%\n",
      "Accuracy = 96.03%\n",
      "Recall = 59.27%\n",
      "\n",
      "\n",
      "identity_hate\n",
      "\n",
      "N = 77\n",
      "Precission = 87.01%\n",
      "Accuracy = 98.97%\n",
      "Recall = 9.41%\n",
      "\n",
      "\n"
     ]
    }
   ],
   "source": [
    "data = test_result[test_result['toxic']!=-1]\n",
    "field_LIST = [['toxic_pred','toxic'],\n",
    "['severe_toxic_pred','severe_toxic'],\n",
    "['obscene_pred','obscene'],\n",
    "['threat_pred','threat'],\n",
    "['insult_pred','insult'],\n",
    "['identity_hate_pred','identity_hate']]\n",
    "\n",
    "for field_LIST_ITEM in field_LIST:\n",
    "    print(field_LIST_ITEM[1]+'\\n')\n",
    "    try:\n",
    "        print('N = '+str(len(data[(data[field_LIST_ITEM[0]]==1)])))\n",
    "        TP = len(data[(data[field_LIST_ITEM[0]]==1) & (data[field_LIST_ITEM[1]]==1)])\n",
    "        FP = len(data[(data[field_LIST_ITEM[0]]==1) & (data[field_LIST_ITEM[1]]==0)])\n",
    "        TN = len(data[(data[field_LIST_ITEM[0]]==0) & (data[field_LIST_ITEM[1]]==0)])\n",
    "        FN = len(data[(data[field_LIST_ITEM[0]]==0) & (data[field_LIST_ITEM[1]]==1)])\n",
    "        #print(\"TP: \"+str(TP))\n",
    "        #print(\"FP: \"+str(FP))\n",
    "        #print(\"TN: \"+str(TN))\n",
    "        #print(\"FN: \"+str(FN))\n",
    "        #print('Total test records: '+str(len(data)))\n",
    "        P = TP/(TP+FP)\n",
    "        A = (TP+TN)/(TP+TN+FP+FN)\n",
    "        R = TP/(TP+FN)\n",
    "        print('Precission = '+str(round(P*100,2))+'%')\n",
    "        print('Accuracy = '+str(round(A*100,2))+'%')\n",
    "        print('Recall = '+str(round(R*100,2))+'%\\n\\n')\n",
    "    except:\n",
    "        print('No records for the following category '+field_LIST_ITEM[0]+'\\n\\n')"
   ]
  },
  {
   "cell_type": "markdown",
   "metadata": {},
   "source": [
    "##### Bidirectional LSTM with 1D Conv Layer with deep dense layer"
   ]
  },
  {
   "cell_type": "code",
   "execution_count": 321,
   "metadata": {},
   "outputs": [
    {
     "name": "stdout",
     "output_type": "stream",
     "text": [
      "_________________________________________________________________\n",
      "Layer (type)                 Output Shape              Param #   \n",
      "=================================================================\n",
      "input_35 (InputLayer)        (None, 100)               0         \n",
      "_________________________________________________________________\n",
      "embedding_32 (Embedding)     (None, 100, 200)          52928000  \n",
      "_________________________________________________________________\n",
      "bidirectional_10 (Bidirectio (None, 100, 180)          209520    \n",
      "_________________________________________________________________\n",
      "conv1d_2 (Conv1D)            (None, 96, 128)           115328    \n",
      "_________________________________________________________________\n",
      "global_max_pooling1d_5 (Glob (None, 128)               0         \n",
      "_________________________________________________________________\n",
      "dropout_9 (Dropout)          (None, 128)               0         \n",
      "_________________________________________________________________\n",
      "dense_36 (Dense)             (None, 100)               12900     \n",
      "_________________________________________________________________\n",
      "dropout_10 (Dropout)         (None, 100)               0         \n",
      "_________________________________________________________________\n",
      "dense_37 (Dense)             (None, 50)                5050      \n",
      "_________________________________________________________________\n",
      "dropout_11 (Dropout)         (None, 50)                0         \n",
      "_________________________________________________________________\n",
      "dense_38 (Dense)             (None, 6)                 306       \n",
      "=================================================================\n",
      "Total params: 53,271,104\n",
      "Trainable params: 343,104\n",
      "Non-trainable params: 52,928,000\n",
      "_________________________________________________________________\n"
     ]
    }
   ],
   "source": [
    "inp2 = Input(shape=(maxlen, ))\n",
    "x2 = Embedding(len(word_to_index), len(embedding_matrix[0]),weights=[embedding_matrix],trainable=False)(inp2)\n",
    "x2 = Bidirectional(LSTM(90, return_sequences=True,name='lstm_layer',dropout=0.1,recurrent_dropout=0.1))(x2)\n",
    "x2 = Conv1D(128, 5, activation='relu')(x2)\n",
    "x2 = GlobalMaxPool1D()(x2)\n",
    "x2 = Dropout(0.1)(x2)\n",
    "x2 = Dense(100, activation=\"relu\")(x2)\n",
    "x2 = Dropout(0.1)(x2)\n",
    "x2 = Dense(50, activation=\"relu\")(x2)\n",
    "x2 = Dropout(0.1)(x2)\n",
    "x2 = Dense(6, activation=\"sigmoid\")(x2)\n",
    "model2 = Model(inputs=inp2, outputs=x2)\n",
    "model2.compile(loss='binary_crossentropy',\n",
    "                  optimizer='adam',\n",
    "                  metrics=['accuracy'])\n",
    "model2.summary()"
   ]
  },
  {
   "cell_type": "code",
   "execution_count": 322,
   "metadata": {},
   "outputs": [
    {
     "name": "stdout",
     "output_type": "stream",
     "text": [
      "Train on 143578 samples, validate on 15954 samples\n",
      "Epoch 1/3\n",
      "143578/143578 [==============================] - 1341s 9ms/step - loss: 0.0900 - acc: 0.9742 - val_loss: 0.0673 - val_acc: 0.9779\n",
      "Epoch 2/3\n",
      "143578/143578 [==============================] - 1003s 7ms/step - loss: 0.0611 - acc: 0.9800 - val_loss: 0.0573 - val_acc: 0.9801\n",
      "Epoch 3/3\n",
      "143578/143578 [==============================] - 906s 6ms/step - loss: 0.0524 - acc: 0.9816 - val_loss: 0.0568 - val_acc: 0.9812\n"
     ]
    }
   ],
   "source": [
    "batch_size = 32\n",
    "epochs = 3\n",
    "hist2 = model2.fit(X_train_pad,y, batch_size=batch_size, epochs=epochs, validation_split=0.1)"
   ]
  },
  {
   "cell_type": "code",
   "execution_count": 327,
   "metadata": {},
   "outputs": [],
   "source": [
    "y_pred2 = model2.predict(X_test_pad)"
   ]
  },
  {
   "cell_type": "code",
   "execution_count": 338,
   "metadata": {},
   "outputs": [],
   "source": [
    "test_data = data_more_tweet_df[data_more_tweet_df['type']=='Test'].drop(['Unnamed: 0', 'Id'], axis=1)\n",
    "test_data = test_data.reset_index(drop=True).drop(['toxic','severe_toxic','obscene','threat','insult','identity_hate'], axis=1)\n",
    "test_pred_df = pd.DataFrame(data=np.round(y_pred2,0), columns=['toxic_pred','severe_toxic_pred','obscene_pred','threat_pred','insult_pred','identity_hate_pred'])\n",
    "test_df = pd.concat([test_data,test_pred_df], axis=1, sort=False)\n",
    "test_label_df = pd.read_csv('test_labels.csv')\n",
    "test_result = pd.merge(test_label_df, test_df, how='inner', on = 'id')"
   ]
  },
  {
   "cell_type": "code",
   "execution_count": 339,
   "metadata": {},
   "outputs": [
    {
     "name": "stdout",
     "output_type": "stream",
     "text": [
      "toxic\n",
      "\n",
      "Predicted N = 7150\n",
      "Actual N = 6088\n",
      "Precission = 61.72%\n",
      "Accuracy = 93.09%\n",
      "Recall = 72.49%\n",
      "\n",
      "\n",
      "severe_toxic\n",
      "\n",
      "Predicted N = 100\n",
      "Actual N = 367\n",
      "Precission = 57.0%\n",
      "Accuracy = 99.45%\n",
      "Recall = 15.53%\n",
      "\n",
      "\n",
      "obscene\n",
      "\n",
      "Predicted N = 4311\n",
      "Actual N = 3689\n",
      "Precission = 62.31%\n",
      "Accuracy = 95.89%\n",
      "Recall = 72.81%\n",
      "\n",
      "\n",
      "threat\n",
      "\n",
      "Predicted N = 0\n",
      "Actual N = 211\n",
      "No records for the following category threat_pred\n",
      "\n",
      "\n",
      "insult\n",
      "\n",
      "Predicted N = 2938\n",
      "Actual N = 3425\n",
      "Precission = 68.41%\n",
      "Accuracy = 96.33%\n",
      "Recall = 58.69%\n",
      "\n",
      "\n",
      "identity_hate\n",
      "\n",
      "Predicted N = 19\n",
      "Actual N = 712\n",
      "Precission = 89.47%\n",
      "Accuracy = 98.91%\n",
      "Recall = 2.39%\n",
      "\n",
      "\n"
     ]
    }
   ],
   "source": [
    "data = test_result[test_result['toxic']!=-1]\n",
    "field_LIST = [['toxic_pred','toxic'],\n",
    "['severe_toxic_pred','severe_toxic'],\n",
    "['obscene_pred','obscene'],\n",
    "['threat_pred','threat'],\n",
    "['insult_pred','insult'],\n",
    "['identity_hate_pred','identity_hate']]\n",
    "\n",
    "for field_LIST_ITEM in field_LIST:\n",
    "    print(field_LIST_ITEM[1]+'\\n')\n",
    "    try:\n",
    "        print('Predicted N = '+str(len(data[(data[field_LIST_ITEM[0]]==1)])))\n",
    "        print('Actual N = '+str(len(data[(data[field_LIST_ITEM[1]]==1)])))\n",
    "        TP = len(data[(data[field_LIST_ITEM[0]]==1) & (data[field_LIST_ITEM[1]]==1)])\n",
    "        FP = len(data[(data[field_LIST_ITEM[0]]==1) & (data[field_LIST_ITEM[1]]==0)])\n",
    "        TN = len(data[(data[field_LIST_ITEM[0]]==0) & (data[field_LIST_ITEM[1]]==0)])\n",
    "        FN = len(data[(data[field_LIST_ITEM[0]]==0) & (data[field_LIST_ITEM[1]]==1)])\n",
    "        P = TP/(TP+FP)\n",
    "        A = (TP+TN)/(TP+TN+FP+FN)\n",
    "        R = TP/(TP+FN)\n",
    "        print('Precission = '+str(round(P*100,2))+'%')\n",
    "        print('Accuracy = '+str(round(A*100,2))+'%')\n",
    "        print('Recall = '+str(round(R*100,2))+'%\\n\\n')\n",
    "    except:\n",
    "        print('No records for the following category '+field_LIST_ITEM[0]+'\\n\\n')"
   ]
  },
  {
   "cell_type": "markdown",
   "metadata": {},
   "source": [
    "### 4.2 Word2Vec Model 15 with ~500,000 Additional IMDB Movie Reviews used for Word Embedding model"
   ]
  },
  {
   "cell_type": "code",
   "execution_count": 323,
   "metadata": {},
   "outputs": [],
   "source": [
    "vocab = model15_imdb.wv.index2entity\n",
    "index_to_word = dict()\n",
    "i = 1\n",
    "for word in vocab:\n",
    "    index_to_word[i] = word\n",
    "    i = i + 1\n",
    "word_to_index = {w:v for v,w in index_to_word.items()}"
   ]
  },
  {
   "cell_type": "code",
   "execution_count": 324,
   "metadata": {},
   "outputs": [],
   "source": [
    "data_imdb_df['int_token']=int_token(data_imdb_df, 100, word_to_index)"
   ]
  },
  {
   "cell_type": "code",
   "execution_count": 325,
   "metadata": {},
   "outputs": [
    {
     "name": "stdout",
     "output_type": "stream",
     "text": [
      "214087 words embedded for training\n"
     ]
    }
   ],
   "source": [
    "embedding_matrix=[]\n",
    "for w,v in word_to_index.items():\n",
    "    embedding_matrix.append(model15_imdb.wv[w])\n",
    "print(str(len(embedding_matrix))+' words embedded for training')\n",
    "maxlen = 100\n",
    "embedding_matrix = np.array(embedding_matrix)"
   ]
  },
  {
   "cell_type": "markdown",
   "metadata": {},
   "source": [
    "##### Rerun Bidirectional LSTM with multiple dense layers"
   ]
  },
  {
   "cell_type": "code",
   "execution_count": 332,
   "metadata": {},
   "outputs": [
    {
     "name": "stdout",
     "output_type": "stream",
     "text": [
      "_________________________________________________________________\n",
      "Layer (type)                 Output Shape              Param #   \n",
      "=================================================================\n",
      "input_39 (InputLayer)        (None, 100)               0         \n",
      "_________________________________________________________________\n",
      "embedding_36 (Embedding)     (None, 100, 200)          42817400  \n",
      "_________________________________________________________________\n",
      "bidirectional_14 (Bidirectio (None, 100, 180)          209520    \n",
      "_________________________________________________________________\n",
      "dropout_20 (Dropout)         (None, 100, 180)          0         \n",
      "_________________________________________________________________\n",
      "dense_47 (Dense)             (None, 100, 50)           9050      \n",
      "_________________________________________________________________\n",
      "dropout_21 (Dropout)         (None, 100, 50)           0         \n",
      "_________________________________________________________________\n",
      "dense_48 (Dense)             (None, 100, 100)          5100      \n",
      "_________________________________________________________________\n",
      "dropout_22 (Dropout)         (None, 100, 100)          0         \n",
      "_________________________________________________________________\n",
      "dense_49 (Dense)             (None, 100, 100)          10100     \n",
      "_________________________________________________________________\n",
      "dropout_23 (Dropout)         (None, 100, 100)          0         \n",
      "_________________________________________________________________\n",
      "dense_50 (Dense)             (None, 100, 50)           5050      \n",
      "_________________________________________________________________\n",
      "dropout_24 (Dropout)         (None, 100, 50)           0         \n",
      "_________________________________________________________________\n",
      "flatten_4 (Flatten)          (None, 5000)              0         \n",
      "_________________________________________________________________\n",
      "dense_51 (Dense)             (None, 6)                 30006     \n",
      "=================================================================\n",
      "Total params: 43,086,226\n",
      "Trainable params: 268,826\n",
      "Non-trainable params: 42,817,400\n",
      "_________________________________________________________________\n"
     ]
    }
   ],
   "source": [
    "inp3 = Input(shape=(maxlen, ))\n",
    "x3 = Embedding(len(word_to_index), len(embedding_matrix[0]),weights=[embedding_matrix],trainable=False)(inp3)\n",
    "x3 = Bidirectional(LSTM(90, return_sequences=True,name='lstm_layer',dropout=0.1,recurrent_dropout=0.1))(x3)\n",
    "x3 = Dropout(0.1)(x3)\n",
    "x3 = Dense(50, activation=\"relu\")(x3)\n",
    "x3 = Dropout(0.1)(x3)\n",
    "x3 = Dense(100, activation=\"relu\")(x3)\n",
    "x3 = Dropout(0.1)(x3)\n",
    "x3 = Dense(100, activation=\"relu\")(x3)\n",
    "x3 = Dropout(0.1)(x3)\n",
    "x3 = Dense(50, activation=\"relu\")(x3)\n",
    "x3 = Dropout(0.1)(x3)\n",
    "x3 = Flatten()(x3)\n",
    "x3 = Dense(6, activation=\"sigmoid\")(x3)\n",
    "model3 = Model(inputs=inp3, outputs=x3)\n",
    "model3.compile(loss='binary_crossentropy',\n",
    "                  optimizer='adam',\n",
    "                  metrics=['accuracy'])\n",
    "model3.summary()"
   ]
  },
  {
   "cell_type": "code",
   "execution_count": 333,
   "metadata": {},
   "outputs": [
    {
     "name": "stdout",
     "output_type": "stream",
     "text": [
      "Train on 143578 samples, validate on 15954 samples\n",
      "Epoch 1/3\n",
      "143578/143578 [==============================] - 939s 7ms/step - loss: 0.0932 - acc: 0.9730 - val_loss: 0.0698 - val_acc: 0.9771\n",
      "Epoch 2/3\n",
      "143578/143578 [==============================] - 956s 7ms/step - loss: 0.0625 - acc: 0.9795 - val_loss: 0.0674 - val_acc: 0.9788\n",
      "Epoch 3/3\n",
      "143578/143578 [==============================] - 1029s 7ms/step - loss: 0.0546 - acc: 0.9811 - val_loss: 0.0575 - val_acc: 0.9804\n"
     ]
    }
   ],
   "source": [
    "batch_size = 32\n",
    "epochs = 3\n",
    "hist3 = model3.fit(X_train_pad,y, batch_size=batch_size, epochs=epochs, validation_split=0.1)"
   ]
  },
  {
   "cell_type": "code",
   "execution_count": 334,
   "metadata": {},
   "outputs": [],
   "source": [
    "y_pred3 = model3.predict(X_test_pad)"
   ]
  },
  {
   "cell_type": "code",
   "execution_count": 344,
   "metadata": {},
   "outputs": [],
   "source": [
    "test_data = data_more_tweet_df[data_more_tweet_df['type']=='Test'].drop(['Unnamed: 0', 'Id'], axis=1)\n",
    "test_data = test_data.reset_index(drop=True).drop(['toxic','severe_toxic','obscene','threat','insult','identity_hate'], axis=1)\n",
    "test_pred_df = pd.DataFrame(data=np.round(y_pred3,0), columns=['toxic_pred','severe_toxic_pred','obscene_pred','threat_pred','insult_pred','identity_hate_pred'])\n",
    "test_df = pd.concat([test_data,test_pred_df], axis=1, sort=False)\n",
    "test_label_df = pd.read_csv('test_labels.csv')\n",
    "test_result = pd.merge(test_label_df, test_df, how='inner', on = 'id')"
   ]
  },
  {
   "cell_type": "code",
   "execution_count": 345,
   "metadata": {},
   "outputs": [
    {
     "name": "stdout",
     "output_type": "stream",
     "text": [
      "toxic\n",
      "\n",
      "Predicted N = 8954\n",
      "Actual N = 6088\n",
      "Precission = 55.28%\n",
      "Accuracy = 91.95%\n",
      "Recall = 81.31%\n",
      "\n",
      "\n",
      "severe_toxic\n",
      "\n",
      "Predicted N = 239\n",
      "Actual N = 367\n",
      "Precission = 40.17%\n",
      "Accuracy = 99.35%\n",
      "Recall = 26.16%\n",
      "\n",
      "\n",
      "obscene\n",
      "\n",
      "Predicted N = 5270\n",
      "Actual N = 3689\n",
      "Precission = 56.2%\n",
      "Accuracy = 95.25%\n",
      "Recall = 80.29%\n",
      "\n",
      "\n",
      "threat\n",
      "\n",
      "Predicted N = 0\n",
      "Actual N = 211\n",
      "No records for the following category threat_pred\n",
      "\n",
      "\n",
      "insult\n",
      "\n",
      "Predicted N = 4398\n",
      "Actual N = 3425\n",
      "Precission = 53.34%\n",
      "Accuracy = 95.1%\n",
      "Recall = 68.5%\n",
      "\n",
      "\n",
      "identity_hate\n",
      "\n",
      "Predicted N = 47\n",
      "Actual N = 712\n",
      "Precission = 63.83%\n",
      "Accuracy = 98.91%\n",
      "Recall = 4.21%\n",
      "\n",
      "\n"
     ]
    }
   ],
   "source": [
    "data = test_result[test_result['toxic']!=-1]\n",
    "field_LIST = [['toxic_pred','toxic'],\n",
    "['severe_toxic_pred','severe_toxic'],\n",
    "['obscene_pred','obscene'],\n",
    "['threat_pred','threat'],\n",
    "['insult_pred','insult'],\n",
    "['identity_hate_pred','identity_hate']]\n",
    "\n",
    "for field_LIST_ITEM in field_LIST:\n",
    "    print(field_LIST_ITEM[1]+'\\n')\n",
    "    try:\n",
    "        print('Predicted N = '+str(len(data[(data[field_LIST_ITEM[0]]==1)])))\n",
    "        print('Actual N = '+str(len(data[(data[field_LIST_ITEM[1]]==1)])))\n",
    "        TP = len(data[(data[field_LIST_ITEM[0]]==1) & (data[field_LIST_ITEM[1]]==1)])\n",
    "        FP = len(data[(data[field_LIST_ITEM[0]]==1) & (data[field_LIST_ITEM[1]]==0)])\n",
    "        TN = len(data[(data[field_LIST_ITEM[0]]==0) & (data[field_LIST_ITEM[1]]==0)])\n",
    "        FN = len(data[(data[field_LIST_ITEM[0]]==0) & (data[field_LIST_ITEM[1]]==1)])\n",
    "        P = TP/(TP+FP)\n",
    "        A = (TP+TN)/(TP+TN+FP+FN)\n",
    "        R = TP/(TP+FN)\n",
    "        print('Precission = '+str(round(P*100,2))+'%')\n",
    "        print('Accuracy = '+str(round(A*100,2))+'%')\n",
    "        print('Recall = '+str(round(R*100,2))+'%\\n\\n')\n",
    "    except:\n",
    "        print('No records for the following category '+field_LIST_ITEM[0]+'\\n\\n')"
   ]
  },
  {
   "cell_type": "markdown",
   "metadata": {},
   "source": [
    "##### Stacked LSTM"
   ]
  },
  {
   "cell_type": "code",
   "execution_count": 62,
   "metadata": {},
   "outputs": [
    {
     "name": "stdout",
     "output_type": "stream",
     "text": [
      "_________________________________________________________________\n",
      "Layer (type)                 Output Shape              Param #   \n",
      "=================================================================\n",
      "input_7 (InputLayer)         (None, 100)               0         \n",
      "_________________________________________________________________\n",
      "embedding_7 (Embedding)      (None, 100, 200)          52928000  \n",
      "_________________________________________________________________\n",
      "lstm_layer1 (LSTM)           (None, 100, 60)           62640     \n",
      "_________________________________________________________________\n",
      "lstm_layer2 (LSTM)           (None, 60)                29040     \n",
      "_________________________________________________________________\n",
      "dropout_20 (Dropout)         (None, 60)                0         \n",
      "_________________________________________________________________\n",
      "dense_18 (Dense)             (None, 50)                3050      \n",
      "_________________________________________________________________\n",
      "dropout_21 (Dropout)         (None, 50)                0         \n",
      "_________________________________________________________________\n",
      "dense_19 (Dense)             (None, 100)               5100      \n",
      "_________________________________________________________________\n",
      "dropout_22 (Dropout)         (None, 100)               0         \n",
      "_________________________________________________________________\n",
      "dense_20 (Dense)             (None, 50)                5050      \n",
      "_________________________________________________________________\n",
      "dropout_23 (Dropout)         (None, 50)                0         \n",
      "_________________________________________________________________\n",
      "dense_21 (Dense)             (None, 6)                 306       \n",
      "=================================================================\n",
      "Total params: 53,033,186\n",
      "Trainable params: 105,186\n",
      "Non-trainable params: 52,928,000\n",
      "_________________________________________________________________\n"
     ]
    }
   ],
   "source": [
    "inp5 = Input(shape=(maxlen, ))\n",
    "x5 = Embedding(len(word_to_index), len(embedding_matrix[0]),weights=[embedding_matrix],trainable=False)(inp5)\n",
    "x5 = LSTM(60, return_sequences=True,name='lstm_layer1',dropout=0.1,recurrent_dropout=0.1)(x5)\n",
    "x5 = LSTM(60,name='lstm_layer2',dropout=0.1,recurrent_dropout=0.1)(x5)\n",
    "x5 = Dropout(0.1)(x5)\n",
    "x5 = Dense(50, activation=\"relu\")(x5)\n",
    "x5 = Dropout(0.1)(x5)\n",
    "x5 = Dense(100, activation=\"relu\")(x5)\n",
    "x5 = Dropout(0.1)(x5)\n",
    "x5 = Dense(50, activation=\"relu\")(x5)\n",
    "x5 = Dropout(0.1)(x5)\n",
    "#x5 = Flatten()(x5)\n",
    "x5 = Dense(6, activation=\"sigmoid\")(x5)\n",
    "model5 = Model(inputs=inp5, outputs=x5)\n",
    "model5.compile(loss='binary_crossentropy',\n",
    "                  optimizer='adam',\n",
    "                  metrics=['accuracy'])\n",
    "model5.summary()"
   ]
  },
  {
   "cell_type": "code",
   "execution_count": 63,
   "metadata": {},
   "outputs": [
    {
     "name": "stdout",
     "output_type": "stream",
     "text": [
      "Train on 143578 samples, validate on 15954 samples\n",
      "Epoch 1/3\n",
      "143578/143578 [==============================] - 1027s 7ms/step - loss: 0.1052 - acc: 0.9703 - val_loss: 0.0760 - val_acc: 0.9765\n",
      "Epoch 2/3\n",
      "143578/143578 [==============================] - 1003s 7ms/step - loss: 0.0721 - acc: 0.9776 - val_loss: 0.0688 - val_acc: 0.9783\n",
      "Epoch 3/3\n",
      "143578/143578 [==============================] - 1010s 7ms/step - loss: 0.0627 - acc: 0.9793 - val_loss: 0.0604 - val_acc: 0.9797\n"
     ]
    }
   ],
   "source": [
    "batch_size = 32\n",
    "epochs = 3\n",
    "hist5 = model5.fit(X_train_pad,y, batch_size=batch_size, epochs=epochs, validation_split=0.1)"
   ]
  },
  {
   "cell_type": "code",
   "execution_count": 64,
   "metadata": {},
   "outputs": [],
   "source": [
    "y_pred5 = model5.predict(X_test_pad)"
   ]
  },
  {
   "cell_type": "code",
   "execution_count": 65,
   "metadata": {},
   "outputs": [],
   "source": [
    "test_data = data_more_tweet_df[data_more_tweet_df['type']=='Test'].drop(['Unnamed: 0', 'Id'], axis=1)\n",
    "test_data = test_data.reset_index(drop=True).drop(['toxic','severe_toxic','obscene','threat','insult','identity_hate'], axis=1)\n",
    "test_pred_df = pd.DataFrame(data=np.round(y_pred5,0), columns=['toxic_pred','severe_toxic_pred','obscene_pred','threat_pred','insult_pred','identity_hate_pred'])\n",
    "test_df = pd.concat([test_data,test_pred_df], axis=1, sort=False)\n",
    "test_label_df = pd.read_csv('test_labels.csv')\n",
    "test_result = pd.merge(test_label_df, test_df, how='inner', on = 'id')"
   ]
  },
  {
   "cell_type": "code",
   "execution_count": 66,
   "metadata": {},
   "outputs": [
    {
     "name": "stdout",
     "output_type": "stream",
     "text": [
      "toxic\n",
      "\n",
      "Predicted N = 6735\n",
      "Actual N = 6088\n",
      "Precission = 63.22%\n",
      "Accuracy = 93.26%\n",
      "Recall = 69.94%\n",
      "\n",
      "\n",
      "severe_toxic\n",
      "\n",
      "Predicted N = 127\n",
      "Actual N = 367\n",
      "Precission = 47.24%\n",
      "Accuracy = 99.41%\n",
      "Recall = 16.35%\n",
      "\n",
      "\n",
      "obscene\n",
      "\n",
      "Predicted N = 3623\n",
      "Actual N = 3689\n",
      "Precission = 68.42%\n",
      "Accuracy = 96.32%\n",
      "Recall = 67.2%\n",
      "\n",
      "\n",
      "threat\n",
      "\n",
      "Predicted N = 0\n",
      "Actual N = 211\n",
      "No records for the following category threat_pred\n",
      "\n",
      "\n",
      "insult\n",
      "\n",
      "Predicted N = 2853\n",
      "Actual N = 3425\n",
      "Precission = 62.92%\n",
      "Accuracy = 95.79%\n",
      "Recall = 52.41%\n",
      "\n",
      "\n",
      "identity_hate\n",
      "\n",
      "Predicted N = 0\n",
      "Actual N = 712\n",
      "No records for the following category identity_hate_pred\n",
      "\n",
      "\n"
     ]
    }
   ],
   "source": [
    "data = test_result[test_result['toxic']!=-1]\n",
    "field_LIST = [['toxic_pred','toxic'],\n",
    "['severe_toxic_pred','severe_toxic'],\n",
    "['obscene_pred','obscene'],\n",
    "['threat_pred','threat'],\n",
    "['insult_pred','insult'],\n",
    "['identity_hate_pred','identity_hate']]\n",
    "\n",
    "for field_LIST_ITEM in field_LIST:\n",
    "    print(field_LIST_ITEM[1]+'\\n')\n",
    "    try:\n",
    "        print('Predicted N = '+str(len(data[(data[field_LIST_ITEM[0]]==1)])))\n",
    "        print('Actual N = '+str(len(data[(data[field_LIST_ITEM[1]]==1)])))\n",
    "        TP = len(data[(data[field_LIST_ITEM[0]]==1) & (data[field_LIST_ITEM[1]]==1)])\n",
    "        FP = len(data[(data[field_LIST_ITEM[0]]==1) & (data[field_LIST_ITEM[1]]==0)])\n",
    "        TN = len(data[(data[field_LIST_ITEM[0]]==0) & (data[field_LIST_ITEM[1]]==0)])\n",
    "        FN = len(data[(data[field_LIST_ITEM[0]]==0) & (data[field_LIST_ITEM[1]]==1)])\n",
    "        P = TP/(TP+FP)\n",
    "        A = (TP+TN)/(TP+TN+FP+FN)\n",
    "        R = TP/(TP+FN)\n",
    "        print('Precission = '+str(round(P*100,2))+'%')\n",
    "        print('Accuracy = '+str(round(A*100,2))+'%')\n",
    "        print('Recall = '+str(round(R*100,2))+'%\\n\\n')\n",
    "    except:\n",
    "        print('No records for the following category '+field_LIST_ITEM[0]+'\\n\\n')"
   ]
  },
  {
   "cell_type": "markdown",
   "metadata": {},
   "source": [
    "# 5. Let's apply the best model so far to identify the negative tweets scraped from the official accounts of NBA Players"
   ]
  },
  {
   "cell_type": "code",
   "execution_count": 72,
   "metadata": {},
   "outputs": [
    {
     "data": {
      "text/html": [
       "<div>\n",
       "<style scoped>\n",
       "    .dataframe tbody tr th:only-of-type {\n",
       "        vertical-align: middle;\n",
       "    }\n",
       "\n",
       "    .dataframe tbody tr th {\n",
       "        vertical-align: top;\n",
       "    }\n",
       "\n",
       "    .dataframe thead th {\n",
       "        text-align: right;\n",
       "    }\n",
       "</style>\n",
       "<table border=\"1\" class=\"dataframe\">\n",
       "  <thead>\n",
       "    <tr style=\"text-align: right;\">\n",
       "      <th></th>\n",
       "      <th>Unnamed: 0</th>\n",
       "      <th>id</th>\n",
       "      <th>tweet</th>\n",
       "      <th>is_retweet</th>\n",
       "      <th>len</th>\n",
       "      <th>date</th>\n",
       "      <th>source</th>\n",
       "      <th>likes</th>\n",
       "      <th>retweets</th>\n",
       "      <th>screenname</th>\n",
       "      <th>followers</th>\n",
       "      <th>sentiment</th>\n",
       "      <th>comment_text</th>\n",
       "      <th>length</th>\n",
       "      <th>tokens</th>\n",
       "    </tr>\n",
       "  </thead>\n",
       "  <tbody>\n",
       "    <tr>\n",
       "      <th>2</th>\n",
       "      <td>2.0</td>\n",
       "      <td>8.496330e+17</td>\n",
       "      <td>@CountryAssDot lol nah it ain't that serious. ...</td>\n",
       "      <td>False</td>\n",
       "      <td>128.0</td>\n",
       "      <td>2017-04-05 14:40:52</td>\n",
       "      <td>Echofon</td>\n",
       "      <td>1.0</td>\n",
       "      <td>1.0</td>\n",
       "      <td>hairston_pj</td>\n",
       "      <td>3149.0</td>\n",
       "      <td>1.0</td>\n",
       "      <td>lol nah it ain' that serious. honestly just l...</td>\n",
       "      <td>10.0</td>\n",
       "      <td>[lol, nah, serious, honestly, like, pissed, du...</td>\n",
       "    </tr>\n",
       "    <tr>\n",
       "      <th>3</th>\n",
       "      <td>3.0</td>\n",
       "      <td>8.496320e+17</td>\n",
       "      <td>@CountryAssDot just another bitter Duke fan wa...</td>\n",
       "      <td>False</td>\n",
       "      <td>89.0</td>\n",
       "      <td>2017-04-05 14:39:06</td>\n",
       "      <td>Echofon</td>\n",
       "      <td>4.0</td>\n",
       "      <td>1.0</td>\n",
       "      <td>hairston_pj</td>\n",
       "      <td>3149.0</td>\n",
       "      <td>1.0</td>\n",
       "      <td>just another bitter Duke fan waiting for the ...</td>\n",
       "      <td>8.0</td>\n",
       "      <td>[another, bitter, duke, fan, waiting, season, ...</td>\n",
       "    </tr>\n",
       "    <tr>\n",
       "      <th>4</th>\n",
       "      <td>4.0</td>\n",
       "      <td>8.496320e+17</td>\n",
       "      <td>@CountryAssDot actually, no. Someone told me I...</td>\n",
       "      <td>False</td>\n",
       "      <td>107.0</td>\n",
       "      <td>2017-04-05 14:38:30</td>\n",
       "      <td>Echofon</td>\n",
       "      <td>1.0</td>\n",
       "      <td>1.0</td>\n",
       "      <td>hairston_pj</td>\n",
       "      <td>3149.0</td>\n",
       "      <td>0.0</td>\n",
       "      <td>actually, no. Someone told me should see beca...</td>\n",
       "      <td>9.0</td>\n",
       "      <td>[actually, someone, told, see, coward, like, k...</td>\n",
       "    </tr>\n",
       "    <tr>\n",
       "      <th>5</th>\n",
       "      <td>5.0</td>\n",
       "      <td>8.496220e+17</td>\n",
       "      <td>@CountryAssDot and? Who gone stop me?</td>\n",
       "      <td>False</td>\n",
       "      <td>37.0</td>\n",
       "      <td>2017-04-05 13:57:54</td>\n",
       "      <td>Echofon</td>\n",
       "      <td>1.0</td>\n",
       "      <td>1.0</td>\n",
       "      <td>hairston_pj</td>\n",
       "      <td>3149.0</td>\n",
       "      <td>0.0</td>\n",
       "      <td>and? Who gone stop me?</td>\n",
       "      <td>3.0</td>\n",
       "      <td>[who, gone, stop]</td>\n",
       "    </tr>\n",
       "    <tr>\n",
       "      <th>6</th>\n",
       "      <td>6.0</td>\n",
       "      <td>8.471380e+17</td>\n",
       "      <td>@AnkleJoelBerry actually, I was on campus abou...</td>\n",
       "      <td>False</td>\n",
       "      <td>61.0</td>\n",
       "      <td>2017-03-29 17:27:41</td>\n",
       "      <td>Echofon</td>\n",
       "      <td>0.0</td>\n",
       "      <td>0.0</td>\n",
       "      <td>hairston_pj</td>\n",
       "      <td>3149.0</td>\n",
       "      <td>0.0</td>\n",
       "      <td>actually, was on campus about month ago</td>\n",
       "      <td>4.0</td>\n",
       "      <td>[actually, campus, month, ago]</td>\n",
       "    </tr>\n",
       "  </tbody>\n",
       "</table>\n",
       "</div>"
      ],
      "text/plain": [
       "   Unnamed: 0            id  \\\n",
       "2         2.0  8.496330e+17   \n",
       "3         3.0  8.496320e+17   \n",
       "4         4.0  8.496320e+17   \n",
       "5         5.0  8.496220e+17   \n",
       "6         6.0  8.471380e+17   \n",
       "\n",
       "                                               tweet is_retweet    len  \\\n",
       "2  @CountryAssDot lol nah it ain't that serious. ...      False  128.0   \n",
       "3  @CountryAssDot just another bitter Duke fan wa...      False   89.0   \n",
       "4  @CountryAssDot actually, no. Someone told me I...      False  107.0   \n",
       "5              @CountryAssDot and? Who gone stop me?      False   37.0   \n",
       "6  @AnkleJoelBerry actually, I was on campus abou...      False   61.0   \n",
       "\n",
       "                  date   source  likes  retweets   screenname  followers  \\\n",
       "2  2017-04-05 14:40:52  Echofon    1.0       1.0  hairston_pj     3149.0   \n",
       "3  2017-04-05 14:39:06  Echofon    4.0       1.0  hairston_pj     3149.0   \n",
       "4  2017-04-05 14:38:30  Echofon    1.0       1.0  hairston_pj     3149.0   \n",
       "5  2017-04-05 13:57:54  Echofon    1.0       1.0  hairston_pj     3149.0   \n",
       "6  2017-03-29 17:27:41  Echofon    0.0       0.0  hairston_pj     3149.0   \n",
       "\n",
       "   sentiment                                       comment_text  length  \\\n",
       "2        1.0   lol nah it ain' that serious. honestly just l...    10.0   \n",
       "3        1.0   just another bitter Duke fan waiting for the ...     8.0   \n",
       "4        0.0   actually, no. Someone told me should see beca...     9.0   \n",
       "5        0.0                             and? Who gone stop me?     3.0   \n",
       "6        0.0           actually, was on campus about month ago      4.0   \n",
       "\n",
       "                                              tokens  \n",
       "2  [lol, nah, serious, honestly, like, pissed, du...  \n",
       "3  [another, bitter, duke, fan, waiting, season, ...  \n",
       "4  [actually, someone, told, see, coward, like, k...  \n",
       "5                                  [who, gone, stop]  \n",
       "6                     [actually, campus, month, ago]  "
      ]
     },
     "execution_count": 72,
     "metadata": {},
     "output_type": "execute_result"
    }
   ],
   "source": [
    "tweet_df_tt.head()"
   ]
  },
  {
   "cell_type": "code",
   "execution_count": null,
   "metadata": {},
   "outputs": [],
   "source": []
  }
 ],
 "metadata": {
  "kernelspec": {
   "display_name": "Python 3",
   "language": "python",
   "name": "python3"
  },
  "language_info": {
   "codemirror_mode": {
    "name": "ipython",
    "version": 3
   },
   "file_extension": ".py",
   "mimetype": "text/x-python",
   "name": "python",
   "nbconvert_exporter": "python",
   "pygments_lexer": "ipython3",
   "version": "3.7.0"
  }
 },
 "nbformat": 4,
 "nbformat_minor": 2
}
